{
  "nbformat": 4,
  "nbformat_minor": 0,
  "metadata": {
    "colab": {
      "name": "temenosn final project.ipynb",
      "provenance": [],
      "collapsed_sections": []
    },
    "kernelspec": {
      "name": "python3",
      "display_name": "Python 3"
    }
  },
  "cells": [
    {
      "cell_type": "markdown",
      "metadata": {
        "id": "0CQamAiuZBlV",
        "colab_type": "text"
      },
      "source": [
        "\n",
        "Importing important libraries"
      ]
    },
    {
      "cell_type": "markdown",
      "metadata": {
        "id": "L_grae3Uo-Uf",
        "colab_type": "text"
      },
      "source": [
        "The below codes will extract text from the documents."
      ]
    },
    {
      "cell_type": "code",
      "metadata": {
        "id": "1riKMGydpuZ0",
        "colab_type": "code",
        "colab": {}
      },
      "source": [
        "\n",
        "#Importing all the neccessary library\n",
        "\n",
        "from bs4 import BeautifulSoup\n",
        "import requests\n",
        "import os\n",
        "import re\n",
        "import pandas as pd\n",
        " \n",
        "#please paste your dirctory here\n",
        "y=\"F:\\core banking\"\n",
        "groups=[\"Data\",\"Resources\",\"Skins\"]\n",
        "docs={}\n",
        "os.chdir(y)\n",
        "ans1=[]\n",
        "for i in os.listdir():\n",
        "    c=y+\"\\\\\"+i\n",
        "    \n",
        "    os.chdir(c)\n",
        "    z=os.listdir()\n",
        "    docs[i]=\"\"\n",
        "    for p in z:\n",
        "        if not p.endswith((\".htm\",\".js\",\".mcwebhelp\",\".xml\")) and p not in groups:\n",
        "            ans1.append(i)\n",
        "            os.chdir(c+\"\\\\\"+p)\n",
        "            loc=os.getcwd()\n",
        "            \n",
        "            \n",
        "            cleanr = re.compile('<.*?>')  # removing tags\n",
        "            for k in os.listdir():\n",
        "                try:\n",
        "                 os.chdir(k)\n",
        "                 \n",
        "            \n",
        "                 for j in os.listdir():\n",
        "                     with open(j) as html_file:\n",
        "                         soup = BeautifulSoup(html_file, \"lxml\")\n",
        "                     doc=\"\"\n",
        "                     match = soup.find(\"div\", class_=\"first_div\")\n",
        "                     cleantext = re.sub(cleanr, '', str(match))\n",
        "                     doc = doc + cleantext\n",
        "                     docs[i]=docs[i]+doc\n",
        "                except:\n",
        "                    print(\"not selecting html\")\n",
        "            \n",
        "                os.chdir(loc)\n",
        "                \n",
        "                \n",
        "\"\"\"the above codes will extract the html document and convert in plain text using beautiful soup.\"\"\"\n",
        "#creating a dataframe with the extracted text ,the columns are the folders from which html text is extracted\n",
        "\n",
        "df=pd.DataFrame(list(docs.items()),columns=[\"Categories\",\"Documents\"])\n"
      ],
      "execution_count": null,
      "outputs": []
    },
    {
      "cell_type": "markdown",
      "metadata": {
        "id": "ee0iVH5aw_LN",
        "colab_type": "text"
      },
      "source": [
        "The below codes are for scripts which we need to predict,\n",
        "The scripts are basically in key value kind of like json file and we are going to take its sstobject list only and then convert in plain text and also preprocess and lemmatize it"
      ]
    },
    {
      "cell_type": "code",
      "metadata": {
        "id": "36_oxqPHw-pn",
        "colab_type": "code",
        "colab": {
          "base_uri": "https://localhost:8080/",
          "height": 105
        },
        "outputId": "db563af7-1e33-48df-862e-1b4590aa044c"
      },
      "source": [
        "#open a single script which need to predict\n",
        "import json\n",
        "with open(\"/content/SCRPT101811001001.scripts\") as file_obj:\n",
        "  data=json.load(file_obj)\n",
        "print(data)\n",
        "corpus=[]\n",
        "bow=[]\n",
        "payments={}\n",
        "payments[data[\"scenarioId\"]]=data[\"sstObjectList\"]\n",
        "\n",
        "script_data=[]\n",
        "for i in payments.values():\n",
        "  script_data.append(i)\n",
        "\n",
        "\n",
        "for j in payments.values():\n",
        "    corpus.append(j)\n",
        "    \n",
        "for l  in corpus:\n",
        "    for words in l:\n",
        "        bow.append(words)\n",
        "\n",
        "text_corpus=[]\n",
        "for i in bow:\n",
        "    for j in i.values():\n",
        "        if j!=[\"NONE\"] and j!=[''] and j!=[] and str(j)!=\"\":\n",
        "        \n",
        "            text_corpus.append(j)\n",
        "# Tokenize(split) the sentences into words\n",
        "texts = []\n",
        "for i in text_corpus:\n",
        "    k=str(i)\n",
        "        \n",
        "    texts.append(k)\n",
        "# Gensim\n",
        "import gensim\n",
        "import gensim.corpora as corpora\n",
        "from gensim.utils import simple_preprocess\n",
        "from gensim.models import CoherenceModel\n",
        "    \n",
        "def sent_to_words(sentences):\n",
        "    for sentence in sentences:\n",
        "        yield(gensim.utils.simple_preprocess(str(sentence), deacc=True))  # deacc=True removes punctuations\n",
        "\n",
        "data_words = list(sent_to_words(texts))\n",
        "import nltk\n",
        "nltk.download('stopwords')"
      ],
      "execution_count": 58,
      "outputs": [
        {
          "output_type": "stream",
          "text": [
            "{'rootDirectory': '', 'scenarioId': 'SCRPT101811001001', 'sstObjectList': [{'scriptId': 'SCRPT101811001001-011', 'description': 'Creation of Functionality Record For Set up Data To be owned by Regression Team', 'companyCode': 'US0010001', 'scriptStatus': 'ACTIVE', 'scriptSource': 'EN-3058108', 'alternateRef': '', 'selectRoutine': '', 'baseRelease': '', 'productGroup': 'PAYMENTS', 'productCode': 'SE', 'scriptGroup': 'TB00\\uf8fdTB00-PREUPG', 'application': 'SEAT.FUNCTIONALITY.COMPONENT', 'staticSetup': 'R20.ST01', 'version': 'SEAT.FUNCTIONALITY.COMPONENT,SEAT.ZERO', 'function': 'I', 'transactionId': 'BASE.SETUP', 'fieldDefinition': [{'fieldName': 'DESCRIPTION:1:1', 'fieldValue': 'Regression Bank Base Set up', 'fieldInput': 'YES'}, {'fieldName': 'COMPONENT:1:1', 'fieldValue': \"RE'_'Config\", 'fieldInput': 'YES'}, {'fieldName': 'FUNCTIONALITY.REF:1:1', 'fieldValue': '01', 'fieldInput': 'YES'}, {'fieldName': 'PRODUCT.GROUP:1:1', 'fieldValue': 'REGRESSION', 'fieldInput': 'YES'}], 'generateError': 'NO', 'defineError': '', 'updateDefinition': [{'updateApplication': '', 'updateScriptId': '', 'updateApplicationFieldIden': ''}], 'msgFromFile': '', 'tprFileName': '1.tpr', 'dependentScript': ['NONE'], 'scriptType': [''], 'createdBy': 'Seat infra team', 'user': '', 'scalabilityGroups': [], 'performanceMetricsId': '', 'seatId': '', 'ioAnalysis': [''], 'createdDate': ''}], 'summaryFvObjectList': [], 'summaryRfObjectList': [], 'fvObjectList': [], 'rfObjectList': [], 'ssfoObjectList': [], 'scriptType': 'SCENARIO', 'ssaObject': {'recordId': 'SCRPT101811001001', 'description': 'Creation of Functionality Record For Set up Data To be owned by Regression Team', 'functionalityId': ['BASE.SETUP'], 'suffix': ['011'], 'prePrimaryProduct': [''], 'product': '', 'resultTableDefinition': [{'testBase': 'R20.ST01', 'uploadstatus': 'ACTIVE', 'resultFile': ''}], 'errorTrace': [''], 'notes': [{'note': ''}], 'component': [{'component': ''}], 'excludeScenario': ''}}\n",
            "[nltk_data] Downloading package stopwords to /root/nltk_data...\n",
            "[nltk_data]   Package stopwords is already up-to-date!\n"
          ],
          "name": "stdout"
        },
        {
          "output_type": "execute_result",
          "data": {
            "text/plain": [
              "True"
            ]
          },
          "metadata": {
            "tags": []
          },
          "execution_count": 58
        }
      ]
    },
    {
      "cell_type": "code",
      "metadata": {
        "id": "WJzipT9Ux0G5",
        "colab_type": "code",
        "colab": {}
      },
      "source": [
        "import nltk\n",
        "\n",
        "# NLTK Stop words\n",
        "from nltk.corpus import stopwords\n",
        "stop_words = stopwords.words('english')\n",
        "stop_words.extend(['from', 'subject', 're', 'edu', 'use'])\n",
        "\n",
        "\n",
        "# spacy for lemmatization\n",
        "\n",
        "\n",
        "# Define functions for stopwords, bigrams, trigrams and lemmatization\n",
        "def remove_stopwords(texts):\n",
        "    return [[word for word in simple_preprocess(str(doc)) if word not in stop_words] for doc in texts]\n",
        "\n",
        "\n",
        "\n",
        "# Remove Stop Words\n",
        "data_words_nostops = remove_stopwords(data_words)\n",
        "\n",
        "\n",
        "def lemmatization(texts,allowed_postags=['NOUN', 'ADJ', 'VERB', 'ADV']):\n",
        "    \"\"\"https://spacy.io/api/annotation\"\"\"\n",
        "    texts_out = []\n",
        "    for sent in texts:\n",
        "        doc = nlp(\" \".join(sent)) \n",
        "        texts_out.append([token.lemma_ for token in doc if token.pos_ in allowed_postags])\n",
        "    return texts_out\n"
      ],
      "execution_count": 59,
      "outputs": []
    },
    {
      "cell_type": "code",
      "metadata": {
        "id": "PwG3G5Evx2qj",
        "colab_type": "code",
        "colab": {}
      },
      "source": [
        "import en_core_web_sm\n",
        "nlp = en_core_web_sm.load()\n",
        "\n",
        "data_lemmatized = lemmatization(data_words_nostops,allowed_postags=['NOUN', 'ADJ', 'VERB', 'ADV'])\n",
        "datax=data_words_nostops\n",
        "actual_data=[]\n",
        "\n",
        "for i in datax:\n",
        "    for j in i:\n",
        "        actual_data.append(j)"
      ],
      "execution_count": 60,
      "outputs": []
    },
    {
      "cell_type": "code",
      "metadata": {
        "id": "qzHlrOf6x6pD",
        "colab_type": "code",
        "colab": {}
      },
      "source": [
        "import pandas as pd\n",
        "actual_test=\" \"\n",
        "for i in actual_data:\n",
        "  actual_test+=\" \"+i\n",
        "new_data=pd.Series(actual_test)\n"
      ],
      "execution_count": 66,
      "outputs": []
    },
    {
      "cell_type": "markdown",
      "metadata": {
        "id": "x5h7eYX1pO7P",
        "colab_type": "text"
      },
      "source": [
        "# Importing All the important libraries which we need for this project"
      ]
    },
    {
      "cell_type": "code",
      "metadata": {
        "id": "ep12VgpoLlTK",
        "colab_type": "code",
        "colab": {
          "base_uri": "https://localhost:8080/",
          "height": 71
        },
        "outputId": "79827488-59fc-4360-8403-31d69b328484"
      },
      "source": [
        "\n",
        "import os\n",
        "\n",
        "\n",
        "import pandas as pd\n",
        "import numpy as np\n",
        "from scipy.stats import randint\n",
        "import seaborn as sns # used for plot interactive graph. \n",
        "import matplotlib.pyplot as plt\n",
        "import seaborn as sns\n",
        "from io import StringIO\n",
        "from sklearn.feature_extraction.text import TfidfVectorizer\n",
        "from sklearn.feature_selection import chi2\n",
        "from IPython.display import display\n",
        "from sklearn.model_selection import train_test_split\n",
        "from sklearn.feature_extraction.text import TfidfTransformer\n",
        "from sklearn.naive_bayes import MultinomialNB\n",
        "from sklearn.linear_model import LogisticRegression\n",
        "from sklearn.ensemble import RandomForestClassifier\n",
        "from sklearn.svm import LinearSVC\n",
        "from sklearn.model_selection import cross_val_score\n",
        "from sklearn.metrics import confusion_matrix\n",
        "from sklearn import metrics\n",
        "\n",
        "\n",
        "from numpy import random\n",
        "import gensim\n",
        "import nltk\n",
        "\n",
        "from sklearn.metrics import accuracy_score\n",
        "\n",
        "from nltk.corpus import stopwords\n",
        "import re\n",
        "from bs4 import BeautifulSoup\n",
        "%matplotlib inline\n"
      ],
      "execution_count": 1,
      "outputs": [
        {
          "output_type": "stream",
          "text": [
            "/usr/local/lib/python3.6/dist-packages/statsmodels/tools/_testing.py:19: FutureWarning: pandas.util.testing is deprecated. Use the functions in the public API at pandas.testing instead.\n",
            "  import pandas.util.testing as tm\n"
          ],
          "name": "stderr"
        }
      ]
    },
    {
      "cell_type": "code",
      "metadata": {
        "id": "3DKnBkD_Juyj",
        "colab_type": "code",
        "colab": {
          "base_uri": "https://localhost:8080/",
          "height": 204
        },
        "outputId": "25c2c25e-23a2-4984-a66c-4c4dc6c9929c"
      },
      "source": [
        "import pandas as pd\n",
        "df=pd.read_csv(\"/content/temenos dataframe final.csv\", index_col=[0])\n",
        "df.head()"
      ],
      "execution_count": 2,
      "outputs": [
        {
          "output_type": "execute_result",
          "data": {
            "text/html": [
              "<div>\n",
              "<style scoped>\n",
              "    .dataframe tbody tr th:only-of-type {\n",
              "        vertical-align: middle;\n",
              "    }\n",
              "\n",
              "    .dataframe tbody tr th {\n",
              "        vertical-align: top;\n",
              "    }\n",
              "\n",
              "    .dataframe thead th {\n",
              "        text-align: right;\n",
              "    }\n",
              "</style>\n",
              "<table border=\"1\" class=\"dataframe\">\n",
              "  <thead>\n",
              "    <tr style=\"text-align: right;\">\n",
              "      <th></th>\n",
              "      <th>Categories</th>\n",
              "      <th>Documents</th>\n",
              "    </tr>\n",
              "  </thead>\n",
              "  <tbody>\n",
              "    <tr>\n",
              "      <th>0</th>\n",
              "      <td>AA</td>\n",
              "      <td>\\nConfiguring Account Statements\\nThis topic h...</td>\n",
              "    </tr>\n",
              "    <tr>\n",
              "      <th>1</th>\n",
              "      <td>AB</td>\n",
              "      <td>\\nConfiguring Account Creation\\nThis topic hel...</td>\n",
              "    </tr>\n",
              "    <tr>\n",
              "      <th>2</th>\n",
              "      <td>AC</td>\n",
              "      <td>\\nConfiguring Account Closure\\nThere is no con...</td>\n",
              "    </tr>\n",
              "    <tr>\n",
              "      <th>3</th>\n",
              "      <td>AC_CQ</td>\n",
              "      <td>\\nConfiguring Charge on Cheque/Draft\\nThere is...</td>\n",
              "    </tr>\n",
              "    <tr>\n",
              "      <th>4</th>\n",
              "      <td>AD</td>\n",
              "      <td>\\nIntroduction\\nStatement Property Class is us...</td>\n",
              "    </tr>\n",
              "  </tbody>\n",
              "</table>\n",
              "</div>"
            ],
            "text/plain": [
              "  Categories                                          Documents\n",
              "0         AA  \\nConfiguring Account Statements\\nThis topic h...\n",
              "1         AB  \\nConfiguring Account Creation\\nThis topic hel...\n",
              "2         AC  \\nConfiguring Account Closure\\nThere is no con...\n",
              "3      AC_CQ  \\nConfiguring Charge on Cheque/Draft\\nThere is...\n",
              "4         AD  \\nIntroduction\\nStatement Property Class is us..."
            ]
          },
          "metadata": {
            "tags": []
          },
          "execution_count": 2
        }
      ]
    },
    {
      "cell_type": "code",
      "metadata": {
        "id": "ymFTXMKkM2HH",
        "colab_type": "code",
        "colab": {
          "base_uri": "https://localhost:8080/",
          "height": 34
        },
        "outputId": "d66645dd-66ea-4e3c-9455-eba425affd92"
      },
      "source": [
        "\n",
        "df.shape"
      ],
      "execution_count": 3,
      "outputs": [
        {
          "output_type": "execute_result",
          "data": {
            "text/plain": [
              "(51, 2)"
            ]
          },
          "metadata": {
            "tags": []
          },
          "execution_count": 3
        }
      ]
    },
    {
      "cell_type": "markdown",
      "metadata": {
        "id": "UTBt0P565Nxi",
        "colab_type": "text"
      },
      "source": [
        "importing stopwords to clean and preprocess the text"
      ]
    },
    {
      "cell_type": "markdown",
      "metadata": {
        "id": "dLNvuV6JrKoV",
        "colab_type": "text"
      },
      "source": [
        "#nltk library to preprocess our text"
      ]
    },
    {
      "cell_type": "code",
      "metadata": {
        "id": "8AMg3tUyPJy1",
        "colab_type": "code",
        "colab": {
          "base_uri": "https://localhost:8080/",
          "height": 68
        },
        "outputId": "b60ffce3-cec4-46fd-a06f-1581994aba21"
      },
      "source": [
        "import nltk\n",
        "nltk.download('stopwords')\n"
      ],
      "execution_count": 4,
      "outputs": [
        {
          "output_type": "stream",
          "text": [
            "[nltk_data] Downloading package stopwords to /root/nltk_data...\n",
            "[nltk_data]   Unzipping corpora/stopwords.zip.\n"
          ],
          "name": "stdout"
        },
        {
          "output_type": "execute_result",
          "data": {
            "text/plain": [
              "True"
            ]
          },
          "metadata": {
            "tags": []
          },
          "execution_count": 4
        }
      ]
    },
    {
      "cell_type": "code",
      "metadata": {
        "id": "jEue2Z3NPNJl",
        "colab_type": "code",
        "colab": {}
      },
      "source": [
        "from nltk.corpus import stopwords\n",
        "import re"
      ],
      "execution_count": 5,
      "outputs": []
    },
    {
      "cell_type": "code",
      "metadata": {
        "id": "qv-BAncUhAMe",
        "colab_type": "code",
        "colab": {}
      },
      "source": [
        "\n",
        "\n"
      ],
      "execution_count": 5,
      "outputs": []
    },
    {
      "cell_type": "markdown",
      "metadata": {
        "id": "DrHSSxTwqwWK",
        "colab_type": "text"
      },
      "source": [
        "So the below function will clean our text."
      ]
    },
    {
      "cell_type": "code",
      "metadata": {
        "id": "Z-pxovNRNJl_",
        "colab_type": "code",
        "colab": {}
      },
      "source": [
        "\n",
        "REPLACE_BY_SPACE_RE = re.compile('[/(){}\\[\\]\\|@,;]')\n",
        "BAD_SYMBOLS_RE = re.compile('[^0-9a-z #+_]')\n",
        "STOPWORDS = set(stopwords.words('english'))\n",
        "\n",
        "def clean_text(text):\n",
        "    \"\"\"\n",
        "        text: a string\n",
        "        \n",
        "        return: modified initial string\n",
        "    \"\"\"\n",
        "    text = BeautifulSoup(text, \"lxml\").text # HTML decoding\n",
        "    text = text.lower() # lowercase text\n",
        "    text = REPLACE_BY_SPACE_RE.sub(' ', text) # replace REPLACE_BY_SPACE_RE symbols by space in text\n",
        "    text = BAD_SYMBOLS_RE.sub('', text) # delete symbols which are in BAD_SYMBOLS_RE from text\n",
        "    text = ' '.join(word for word in text.split() if word not in STOPWORDS) # delete stopwors from text\n",
        "    return text\n",
        "    \n",
        "\n",
        "\n",
        "#After splitting the data set, the next steps includes feature engineering. We will convert our text documents to a matrix of token counts (CountVectorizer), then transform a count matrix to a normalized tf-idf representation (tf-idf transformer).\n"
      ],
      "execution_count": 6,
      "outputs": []
    },
    {
      "cell_type": "markdown",
      "metadata": {
        "id": "z2v9MMwwq9Jq",
        "colab_type": "text"
      },
      "source": [
        "#plotting the distribution of our dataset"
      ]
    },
    {
      "cell_type": "code",
      "metadata": {
        "id": "5MYUOXEEjRjE",
        "colab_type": "code",
        "colab": {}
      },
      "source": [
        ""
      ],
      "execution_count": 6,
      "outputs": []
    },
    {
      "cell_type": "markdown",
      "metadata": {
        "id": "XxFnaWofqTnO",
        "colab_type": "text"
      },
      "source": [
        "lets see our dataframe now"
      ]
    },
    {
      "cell_type": "code",
      "metadata": {
        "id": "vzMIPAwslppC",
        "colab_type": "code",
        "colab": {
          "base_uri": "https://localhost:8080/",
          "height": 204
        },
        "outputId": "645f035e-b9e6-4120-9263-91d472c4183a"
      },
      "source": [
        "df.head()"
      ],
      "execution_count": 7,
      "outputs": [
        {
          "output_type": "execute_result",
          "data": {
            "text/html": [
              "<div>\n",
              "<style scoped>\n",
              "    .dataframe tbody tr th:only-of-type {\n",
              "        vertical-align: middle;\n",
              "    }\n",
              "\n",
              "    .dataframe tbody tr th {\n",
              "        vertical-align: top;\n",
              "    }\n",
              "\n",
              "    .dataframe thead th {\n",
              "        text-align: right;\n",
              "    }\n",
              "</style>\n",
              "<table border=\"1\" class=\"dataframe\">\n",
              "  <thead>\n",
              "    <tr style=\"text-align: right;\">\n",
              "      <th></th>\n",
              "      <th>Categories</th>\n",
              "      <th>Documents</th>\n",
              "    </tr>\n",
              "  </thead>\n",
              "  <tbody>\n",
              "    <tr>\n",
              "      <th>0</th>\n",
              "      <td>AA</td>\n",
              "      <td>\\nConfiguring Account Statements\\nThis topic h...</td>\n",
              "    </tr>\n",
              "    <tr>\n",
              "      <th>1</th>\n",
              "      <td>AB</td>\n",
              "      <td>\\nConfiguring Account Creation\\nThis topic hel...</td>\n",
              "    </tr>\n",
              "    <tr>\n",
              "      <th>2</th>\n",
              "      <td>AC</td>\n",
              "      <td>\\nConfiguring Account Closure\\nThere is no con...</td>\n",
              "    </tr>\n",
              "    <tr>\n",
              "      <th>3</th>\n",
              "      <td>AC_CQ</td>\n",
              "      <td>\\nConfiguring Charge on Cheque/Draft\\nThere is...</td>\n",
              "    </tr>\n",
              "    <tr>\n",
              "      <th>4</th>\n",
              "      <td>AD</td>\n",
              "      <td>\\nIntroduction\\nStatement Property Class is us...</td>\n",
              "    </tr>\n",
              "  </tbody>\n",
              "</table>\n",
              "</div>"
            ],
            "text/plain": [
              "  Categories                                          Documents\n",
              "0         AA  \\nConfiguring Account Statements\\nThis topic h...\n",
              "1         AB  \\nConfiguring Account Creation\\nThis topic hel...\n",
              "2         AC  \\nConfiguring Account Closure\\nThere is no con...\n",
              "3      AC_CQ  \\nConfiguring Charge on Cheque/Draft\\nThere is...\n",
              "4         AD  \\nIntroduction\\nStatement Property Class is us..."
            ]
          },
          "metadata": {
            "tags": []
          },
          "execution_count": 7
        }
      ]
    },
    {
      "cell_type": "code",
      "metadata": {
        "id": "L4sk4CnFkzrf",
        "colab_type": "code",
        "colab": {
          "base_uri": "https://localhost:8080/",
          "height": 34
        },
        "outputId": "3e70b10c-a9d4-4a34-beb9-9c967bd80e61"
      },
      "source": [
        "df.shape"
      ],
      "execution_count": 8,
      "outputs": [
        {
          "output_type": "execute_result",
          "data": {
            "text/plain": [
              "(51, 2)"
            ]
          },
          "metadata": {
            "tags": []
          },
          "execution_count": 8
        }
      ]
    },
    {
      "cell_type": "code",
      "metadata": {
        "id": "cfMpKyNmXfBf",
        "colab_type": "code",
        "colab": {
          "base_uri": "https://localhost:8080/",
          "height": 119
        },
        "outputId": "3d081094-140a-4666-810a-970c7894981a"
      },
      "source": [
        "df[\"Documents\"].head()"
      ],
      "execution_count": 9,
      "outputs": [
        {
          "output_type": "execute_result",
          "data": {
            "text/plain": [
              "0    \\nConfiguring Account Statements\\nThis topic h...\n",
              "1    \\nConfiguring Account Creation\\nThis topic hel...\n",
              "2    \\nConfiguring Account Closure\\nThere is no con...\n",
              "3    \\nConfiguring Charge on Cheque/Draft\\nThere is...\n",
              "4    \\nIntroduction\\nStatement Property Class is us...\n",
              "Name: Documents, dtype: object"
            ]
          },
          "metadata": {
            "tags": []
          },
          "execution_count": 9
        }
      ]
    },
    {
      "cell_type": "markdown",
      "metadata": {
        "id": "M58pAFhBBSBq",
        "colab_type": "text"
      },
      "source": [
        "#Removing Null values from Documents column"
      ]
    },
    {
      "cell_type": "code",
      "metadata": {
        "id": "S6_U0QXUPLNW",
        "colab_type": "code",
        "colab": {}
      },
      "source": [
        "df = df[pd.notnull(df['Documents'])]"
      ],
      "execution_count": 10,
      "outputs": []
    },
    {
      "cell_type": "code",
      "metadata": {
        "id": "BVef5qzcpGVA",
        "colab_type": "code",
        "colab": {
          "base_uri": "https://localhost:8080/",
          "height": 204
        },
        "outputId": "569a296a-4226-4af7-a376-7610ff1c252d"
      },
      "source": [
        "df.head()"
      ],
      "execution_count": 11,
      "outputs": [
        {
          "output_type": "execute_result",
          "data": {
            "text/html": [
              "<div>\n",
              "<style scoped>\n",
              "    .dataframe tbody tr th:only-of-type {\n",
              "        vertical-align: middle;\n",
              "    }\n",
              "\n",
              "    .dataframe tbody tr th {\n",
              "        vertical-align: top;\n",
              "    }\n",
              "\n",
              "    .dataframe thead th {\n",
              "        text-align: right;\n",
              "    }\n",
              "</style>\n",
              "<table border=\"1\" class=\"dataframe\">\n",
              "  <thead>\n",
              "    <tr style=\"text-align: right;\">\n",
              "      <th></th>\n",
              "      <th>Categories</th>\n",
              "      <th>Documents</th>\n",
              "    </tr>\n",
              "  </thead>\n",
              "  <tbody>\n",
              "    <tr>\n",
              "      <th>0</th>\n",
              "      <td>AA</td>\n",
              "      <td>\\nConfiguring Account Statements\\nThis topic h...</td>\n",
              "    </tr>\n",
              "    <tr>\n",
              "      <th>1</th>\n",
              "      <td>AB</td>\n",
              "      <td>\\nConfiguring Account Creation\\nThis topic hel...</td>\n",
              "    </tr>\n",
              "    <tr>\n",
              "      <th>2</th>\n",
              "      <td>AC</td>\n",
              "      <td>\\nConfiguring Account Closure\\nThere is no con...</td>\n",
              "    </tr>\n",
              "    <tr>\n",
              "      <th>3</th>\n",
              "      <td>AC_CQ</td>\n",
              "      <td>\\nConfiguring Charge on Cheque/Draft\\nThere is...</td>\n",
              "    </tr>\n",
              "    <tr>\n",
              "      <th>4</th>\n",
              "      <td>AD</td>\n",
              "      <td>\\nIntroduction\\nStatement Property Class is us...</td>\n",
              "    </tr>\n",
              "  </tbody>\n",
              "</table>\n",
              "</div>"
            ],
            "text/plain": [
              "  Categories                                          Documents\n",
              "0         AA  \\nConfiguring Account Statements\\nThis topic h...\n",
              "1         AB  \\nConfiguring Account Creation\\nThis topic hel...\n",
              "2         AC  \\nConfiguring Account Closure\\nThere is no con...\n",
              "3      AC_CQ  \\nConfiguring Charge on Cheque/Draft\\nThere is...\n",
              "4         AD  \\nIntroduction\\nStatement Property Class is us..."
            ]
          },
          "metadata": {
            "tags": []
          },
          "execution_count": 11
        }
      ]
    },
    {
      "cell_type": "markdown",
      "metadata": {
        "id": "Mlum3nA0BcGa",
        "colab_type": "text"
      },
      "source": [
        "applying clean_text function to clean all the rows from Documents column"
      ]
    },
    {
      "cell_type": "code",
      "metadata": {
        "id": "Z1t6wF49Q5O6",
        "colab_type": "code",
        "colab": {}
      },
      "source": [
        "\n",
        "df['Documents']=df['Documents'].apply(clean_text)"
      ],
      "execution_count": 12,
      "outputs": []
    },
    {
      "cell_type": "code",
      "metadata": {
        "id": "q6PpaYHnpXSg",
        "colab_type": "code",
        "colab": {
          "base_uri": "https://localhost:8080/",
          "height": 204
        },
        "outputId": "573367ec-5d1c-4731-c42a-1f88e1a517f4"
      },
      "source": [
        "\n",
        "\n",
        "df.head()"
      ],
      "execution_count": 13,
      "outputs": [
        {
          "output_type": "execute_result",
          "data": {
            "text/html": [
              "<div>\n",
              "<style scoped>\n",
              "    .dataframe tbody tr th:only-of-type {\n",
              "        vertical-align: middle;\n",
              "    }\n",
              "\n",
              "    .dataframe tbody tr th {\n",
              "        vertical-align: top;\n",
              "    }\n",
              "\n",
              "    .dataframe thead th {\n",
              "        text-align: right;\n",
              "    }\n",
              "</style>\n",
              "<table border=\"1\" class=\"dataframe\">\n",
              "  <thead>\n",
              "    <tr style=\"text-align: right;\">\n",
              "      <th></th>\n",
              "      <th>Categories</th>\n",
              "      <th>Documents</th>\n",
              "    </tr>\n",
              "  </thead>\n",
              "  <tbody>\n",
              "    <tr>\n",
              "      <th>0</th>\n",
              "      <td>AA</td>\n",
              "      <td>configuring account statementsthis topic helps...</td>\n",
              "    </tr>\n",
              "    <tr>\n",
              "      <th>1</th>\n",
              "      <td>AB</td>\n",
              "      <td>configuring account creationthis topic helps u...</td>\n",
              "    </tr>\n",
              "    <tr>\n",
              "      <th>2</th>\n",
              "      <td>AC</td>\n",
              "      <td>configuring account closurethere configuration...</td>\n",
              "    </tr>\n",
              "    <tr>\n",
              "      <th>3</th>\n",
              "      <td>AC_CQ</td>\n",
              "      <td>configuring charge cheque draftthere configura...</td>\n",
              "    </tr>\n",
              "    <tr>\n",
              "      <th>4</th>\n",
              "      <td>AD</td>\n",
              "      <td>introductionstatement property class used spec...</td>\n",
              "    </tr>\n",
              "  </tbody>\n",
              "</table>\n",
              "</div>"
            ],
            "text/plain": [
              "  Categories                                          Documents\n",
              "0         AA  configuring account statementsthis topic helps...\n",
              "1         AB  configuring account creationthis topic helps u...\n",
              "2         AC  configuring account closurethere configuration...\n",
              "3      AC_CQ  configuring charge cheque draftthere configura...\n",
              "4         AD  introductionstatement property class used spec..."
            ]
          },
          "metadata": {
            "tags": []
          },
          "execution_count": 13
        }
      ]
    },
    {
      "cell_type": "markdown",
      "metadata": {
        "id": "GgSb4fkuDlUD",
        "colab_type": "text"
      },
      "source": [
        "To understan our predictive model,we need to represent each label as a number"
      ]
    },
    {
      "cell_type": "code",
      "metadata": {
        "id": "5whaW9Lxnzlg",
        "colab_type": "code",
        "colab": {
          "base_uri": "https://localhost:8080/",
          "height": 1000
        },
        "outputId": "ae75b931-be9d-4130-d06a-19b799743f3f"
      },
      "source": [
        "df"
      ],
      "execution_count": 14,
      "outputs": [
        {
          "output_type": "execute_result",
          "data": {
            "text/html": [
              "<div>\n",
              "<style scoped>\n",
              "    .dataframe tbody tr th:only-of-type {\n",
              "        vertical-align: middle;\n",
              "    }\n",
              "\n",
              "    .dataframe tbody tr th {\n",
              "        vertical-align: top;\n",
              "    }\n",
              "\n",
              "    .dataframe thead th {\n",
              "        text-align: right;\n",
              "    }\n",
              "</style>\n",
              "<table border=\"1\" class=\"dataframe\">\n",
              "  <thead>\n",
              "    <tr style=\"text-align: right;\">\n",
              "      <th></th>\n",
              "      <th>Categories</th>\n",
              "      <th>Documents</th>\n",
              "    </tr>\n",
              "  </thead>\n",
              "  <tbody>\n",
              "    <tr>\n",
              "      <th>0</th>\n",
              "      <td>AA</td>\n",
              "      <td>configuring account statementsthis topic helps...</td>\n",
              "    </tr>\n",
              "    <tr>\n",
              "      <th>1</th>\n",
              "      <td>AB</td>\n",
              "      <td>configuring account creationthis topic helps u...</td>\n",
              "    </tr>\n",
              "    <tr>\n",
              "      <th>2</th>\n",
              "      <td>AC</td>\n",
              "      <td>configuring account closurethere configuration...</td>\n",
              "    </tr>\n",
              "    <tr>\n",
              "      <th>3</th>\n",
              "      <td>AC_CQ</td>\n",
              "      <td>configuring charge cheque draftthere configura...</td>\n",
              "    </tr>\n",
              "    <tr>\n",
              "      <th>4</th>\n",
              "      <td>AD</td>\n",
              "      <td>introductionstatement property class used spec...</td>\n",
              "    </tr>\n",
              "    <tr>\n",
              "      <th>5</th>\n",
              "      <td>AG</td>\n",
              "      <td>configuring activity based commissionthe activ...</td>\n",
              "    </tr>\n",
              "    <tr>\n",
              "      <th>6</th>\n",
              "      <td>AR</td>\n",
              "      <td>configuring accounting retail accountsthe acco...</td>\n",
              "    </tr>\n",
              "    <tr>\n",
              "      <th>7</th>\n",
              "      <td>AU</td>\n",
              "      <td>accounting authere configuration content featu...</td>\n",
              "    </tr>\n",
              "    <tr>\n",
              "      <th>8</th>\n",
              "      <td>BM</td>\n",
              "      <td>introduction business monitoringthis page inte...</td>\n",
              "    </tr>\n",
              "    <tr>\n",
              "      <th>9</th>\n",
              "      <td>CL</td>\n",
              "      <td>configuring account creationthis topic helps u...</td>\n",
              "    </tr>\n",
              "    <tr>\n",
              "      <th>10</th>\n",
              "      <td>CO</td>\n",
              "      <td>configuring advance collateral cross pledgingt...</td>\n",
              "    </tr>\n",
              "    <tr>\n",
              "      <th>12</th>\n",
              "      <td>DA</td>\n",
              "      <td>configuring customer account balance reporting...</td>\n",
              "    </tr>\n",
              "    <tr>\n",
              "      <th>14</th>\n",
              "      <td>DC</td>\n",
              "      <td>configuring dates accounting related data capt...</td>\n",
              "    </tr>\n",
              "    <tr>\n",
              "      <th>15</th>\n",
              "      <td>DE</td>\n",
              "      <td>configuring inward delivery messagesthere conf...</td>\n",
              "    </tr>\n",
              "    <tr>\n",
              "      <th>17</th>\n",
              "      <td>DX</td>\n",
              "      <td>configuring constraintsthe dxtradingconstraint...</td>\n",
              "    </tr>\n",
              "    <tr>\n",
              "      <th>18</th>\n",
              "      <td>DZ</td>\n",
              "      <td>introduction customer account balance reportin...</td>\n",
              "    </tr>\n",
              "    <tr>\n",
              "      <th>19</th>\n",
              "      <td>EB</td>\n",
              "      <td>accounting authere configuration content featu...</td>\n",
              "    </tr>\n",
              "    <tr>\n",
              "      <th>21</th>\n",
              "      <td>ER</td>\n",
              "      <td>configuring automatic creation regular receipt...</td>\n",
              "    </tr>\n",
              "    <tr>\n",
              "      <th>22</th>\n",
              "      <td>EU</td>\n",
              "      <td>introduction currency redenominationthis page ...</td>\n",
              "    </tr>\n",
              "    <tr>\n",
              "      <th>23</th>\n",
              "      <td>FF</td>\n",
              "      <td>configuring automatic upload batchingthe follo...</td>\n",
              "    </tr>\n",
              "    <tr>\n",
              "      <th>24</th>\n",
              "      <td>FR</td>\n",
              "      <td>configuring fra hedge deal processingfra hedge...</td>\n",
              "    </tr>\n",
              "    <tr>\n",
              "      <th>25</th>\n",
              "      <td>FX</td>\n",
              "      <td>configuring amortisation positionprofit loss p...</td>\n",
              "    </tr>\n",
              "    <tr>\n",
              "      <th>26</th>\n",
              "      <td>GP</td>\n",
              "      <td>introduction global processingthis page intent...</td>\n",
              "    </tr>\n",
              "    <tr>\n",
              "      <th>27</th>\n",
              "      <td>IC</td>\n",
              "      <td>nonenonenonenonenonenonenonenonenoneconfigurin...</td>\n",
              "    </tr>\n",
              "    <tr>\n",
              "      <th>30</th>\n",
              "      <td>LC</td>\n",
              "      <td>designing pre advice lcpreadvice lc specific c...</td>\n",
              "    </tr>\n",
              "    <tr>\n",
              "      <th>31</th>\n",
              "      <td>MC</td>\n",
              "      <td>configuring combined company crf reportthis to...</td>\n",
              "    </tr>\n",
              "    <tr>\n",
              "      <th>32</th>\n",
              "      <td>MD</td>\n",
              "      <td>configuring amendment issued registered guaran...</td>\n",
              "    </tr>\n",
              "    <tr>\n",
              "      <th>33</th>\n",
              "      <td>MM</td>\n",
              "      <td>configuring back value premature contractsback...</td>\n",
              "    </tr>\n",
              "    <tr>\n",
              "      <th>34</th>\n",
              "      <td>MS</td>\n",
              "      <td>introduction multiple application serverthis p...</td>\n",
              "    </tr>\n",
              "    <tr>\n",
              "      <th>35</th>\n",
              "      <td>NDF</td>\n",
              "      <td>nonenonenonenonenoneconfiguring exotic deal pr...</td>\n",
              "    </tr>\n",
              "    <tr>\n",
              "      <th>36</th>\n",
              "      <td>NS</td>\n",
              "      <td>introduction nonstop processingthis page inten...</td>\n",
              "    </tr>\n",
              "    <tr>\n",
              "      <th>37</th>\n",
              "      <td>PC</td>\n",
              "      <td>configuring accounting process postclosingther...</td>\n",
              "    </tr>\n",
              "    <tr>\n",
              "      <th>38</th>\n",
              "      <td>PM</td>\n",
              "      <td>configuring account creationthis topic helps u...</td>\n",
              "    </tr>\n",
              "    <tr>\n",
              "      <th>40</th>\n",
              "      <td>PW</td>\n",
              "      <td>purpose guidethis document helps user get over...</td>\n",
              "    </tr>\n",
              "    <tr>\n",
              "      <th>41</th>\n",
              "      <td>RC</td>\n",
              "      <td>introduction transaction cyclerthis page inten...</td>\n",
              "    </tr>\n",
              "    <tr>\n",
              "      <th>42</th>\n",
              "      <td>RE</td>\n",
              "      <td>configuring accounting entriesthere designing ...</td>\n",
              "    </tr>\n",
              "    <tr>\n",
              "      <th>44</th>\n",
              "      <td>RS</td>\n",
              "      <td>configuring charges retail sweepthere configur...</td>\n",
              "    </tr>\n",
              "    <tr>\n",
              "      <th>45</th>\n",
              "      <td>SF</td>\n",
              "      <td>introduction swift licensingthis page intentio...</td>\n",
              "    </tr>\n",
              "    <tr>\n",
              "      <th>46</th>\n",
              "      <td>Skins</td>\n",
              "      <td>none</td>\n",
              "    </tr>\n",
              "    <tr>\n",
              "      <th>47</th>\n",
              "      <td>SL</td>\n",
              "      <td>nonenonenonenonenonenonenonenonenonenonenoneno...</td>\n",
              "    </tr>\n",
              "    <tr>\n",
              "      <th>49</th>\n",
              "      <td>ST</td>\n",
              "      <td>introduction system tablesthis page intentiona...</td>\n",
              "    </tr>\n",
              "    <tr>\n",
              "      <th>50</th>\n",
              "      <td>SW</td>\n",
              "      <td>accountingthe accounting process initiated sch...</td>\n",
              "    </tr>\n",
              "  </tbody>\n",
              "</table>\n",
              "</div>"
            ],
            "text/plain": [
              "   Categories                                          Documents\n",
              "0          AA  configuring account statementsthis topic helps...\n",
              "1          AB  configuring account creationthis topic helps u...\n",
              "2          AC  configuring account closurethere configuration...\n",
              "3       AC_CQ  configuring charge cheque draftthere configura...\n",
              "4          AD  introductionstatement property class used spec...\n",
              "5          AG  configuring activity based commissionthe activ...\n",
              "6          AR  configuring accounting retail accountsthe acco...\n",
              "7          AU  accounting authere configuration content featu...\n",
              "8          BM  introduction business monitoringthis page inte...\n",
              "9          CL  configuring account creationthis topic helps u...\n",
              "10         CO  configuring advance collateral cross pledgingt...\n",
              "12         DA  configuring customer account balance reporting...\n",
              "14         DC  configuring dates accounting related data capt...\n",
              "15         DE  configuring inward delivery messagesthere conf...\n",
              "17         DX  configuring constraintsthe dxtradingconstraint...\n",
              "18         DZ  introduction customer account balance reportin...\n",
              "19         EB  accounting authere configuration content featu...\n",
              "21         ER  configuring automatic creation regular receipt...\n",
              "22         EU  introduction currency redenominationthis page ...\n",
              "23         FF  configuring automatic upload batchingthe follo...\n",
              "24         FR  configuring fra hedge deal processingfra hedge...\n",
              "25         FX  configuring amortisation positionprofit loss p...\n",
              "26         GP  introduction global processingthis page intent...\n",
              "27         IC  nonenonenonenonenonenonenonenonenoneconfigurin...\n",
              "30         LC  designing pre advice lcpreadvice lc specific c...\n",
              "31         MC  configuring combined company crf reportthis to...\n",
              "32         MD  configuring amendment issued registered guaran...\n",
              "33         MM  configuring back value premature contractsback...\n",
              "34         MS  introduction multiple application serverthis p...\n",
              "35        NDF  nonenonenonenonenoneconfiguring exotic deal pr...\n",
              "36         NS  introduction nonstop processingthis page inten...\n",
              "37         PC  configuring accounting process postclosingther...\n",
              "38         PM  configuring account creationthis topic helps u...\n",
              "40         PW  purpose guidethis document helps user get over...\n",
              "41         RC  introduction transaction cyclerthis page inten...\n",
              "42         RE  configuring accounting entriesthere designing ...\n",
              "44         RS  configuring charges retail sweepthere configur...\n",
              "45         SF  introduction swift licensingthis page intentio...\n",
              "46      Skins                                               none\n",
              "47         SL  nonenonenonenonenonenonenonenonenonenonenoneno...\n",
              "49         ST  introduction system tablesthis page intentiona...\n",
              "50         SW  accountingthe accounting process initiated sch..."
            ]
          },
          "metadata": {
            "tags": []
          },
          "execution_count": 14
        }
      ]
    },
    {
      "cell_type": "markdown",
      "metadata": {
        "id": "g9iNk66IEwcE",
        "colab_type": "text"
      },
      "source": [
        "forming a dictionary "
      ]
    },
    {
      "cell_type": "code",
      "metadata": {
        "id": "XgccHivLqGpZ",
        "colab_type": "code",
        "colab": {}
      },
      "source": [
        "#Create a new column 'category_id' with encoded categories \n",
        "df['category_id'] = df['Categories'].factorize()[0]\n"
      ],
      "execution_count": 17,
      "outputs": []
    },
    {
      "cell_type": "code",
      "metadata": {
        "id": "sukejyJ9qWNo",
        "colab_type": "code",
        "colab": {
          "base_uri": "https://localhost:8080/",
          "height": 748
        },
        "outputId": "42091200-c1de-4084-df70-4ddea1ef0601"
      },
      "source": [
        "category_id_df = df[['Categories', 'category_id']].drop_duplicates()\n",
        "print(category_id_df)"
      ],
      "execution_count": 19,
      "outputs": [
        {
          "output_type": "stream",
          "text": [
            "   Categories  category_id\n",
            "0          AA            0\n",
            "1          AB            1\n",
            "2          AC            2\n",
            "3       AC_CQ            3\n",
            "4          AD            4\n",
            "5          AG            5\n",
            "6          AR            6\n",
            "7          AU            7\n",
            "8          BM            8\n",
            "9          CL            9\n",
            "10         CO           10\n",
            "12         DA           11\n",
            "14         DC           12\n",
            "15         DE           13\n",
            "17         DX           14\n",
            "18         DZ           15\n",
            "19         EB           16\n",
            "21         ER           17\n",
            "22         EU           18\n",
            "23         FF           19\n",
            "24         FR           20\n",
            "25         FX           21\n",
            "26         GP           22\n",
            "27         IC           23\n",
            "30         LC           24\n",
            "31         MC           25\n",
            "32         MD           26\n",
            "33         MM           27\n",
            "34         MS           28\n",
            "35        NDF           29\n",
            "36         NS           30\n",
            "37         PC           31\n",
            "38         PM           32\n",
            "40         PW           33\n",
            "41         RC           34\n",
            "42         RE           35\n",
            "44         RS           36\n",
            "45         SF           37\n",
            "46      Skins           38\n",
            "47         SL           39\n",
            "49         ST           40\n",
            "50         SW           41\n"
          ],
          "name": "stdout"
        }
      ]
    },
    {
      "cell_type": "code",
      "metadata": {
        "id": "1q4Di5xlqOKc",
        "colab_type": "code",
        "colab": {
          "base_uri": "https://localhost:8080/",
          "height": 204
        },
        "outputId": "36b082ca-6562-4047-fac8-d3e96e5bb68e"
      },
      "source": [
        "category_to_id = dict(category_id_df.values)\n",
        "id_to_category = dict(category_id_df[['category_id', 'Categories']].values)\n",
        "\n",
        "# New dataframe\n",
        "df.head()"
      ],
      "execution_count": 21,
      "outputs": [
        {
          "output_type": "execute_result",
          "data": {
            "text/html": [
              "<div>\n",
              "<style scoped>\n",
              "    .dataframe tbody tr th:only-of-type {\n",
              "        vertical-align: middle;\n",
              "    }\n",
              "\n",
              "    .dataframe tbody tr th {\n",
              "        vertical-align: top;\n",
              "    }\n",
              "\n",
              "    .dataframe thead th {\n",
              "        text-align: right;\n",
              "    }\n",
              "</style>\n",
              "<table border=\"1\" class=\"dataframe\">\n",
              "  <thead>\n",
              "    <tr style=\"text-align: right;\">\n",
              "      <th></th>\n",
              "      <th>Categories</th>\n",
              "      <th>Documents</th>\n",
              "      <th>category_id</th>\n",
              "    </tr>\n",
              "  </thead>\n",
              "  <tbody>\n",
              "    <tr>\n",
              "      <th>0</th>\n",
              "      <td>AA</td>\n",
              "      <td>configuring account statementsthis topic helps...</td>\n",
              "      <td>0</td>\n",
              "    </tr>\n",
              "    <tr>\n",
              "      <th>1</th>\n",
              "      <td>AB</td>\n",
              "      <td>configuring account creationthis topic helps u...</td>\n",
              "      <td>1</td>\n",
              "    </tr>\n",
              "    <tr>\n",
              "      <th>2</th>\n",
              "      <td>AC</td>\n",
              "      <td>configuring account closurethere configuration...</td>\n",
              "      <td>2</td>\n",
              "    </tr>\n",
              "    <tr>\n",
              "      <th>3</th>\n",
              "      <td>AC_CQ</td>\n",
              "      <td>configuring charge cheque draftthere configura...</td>\n",
              "      <td>3</td>\n",
              "    </tr>\n",
              "    <tr>\n",
              "      <th>4</th>\n",
              "      <td>AD</td>\n",
              "      <td>introductionstatement property class used spec...</td>\n",
              "      <td>4</td>\n",
              "    </tr>\n",
              "  </tbody>\n",
              "</table>\n",
              "</div>"
            ],
            "text/plain": [
              "  Categories                                          Documents  category_id\n",
              "0         AA  configuring account statementsthis topic helps...            0\n",
              "1         AB  configuring account creationthis topic helps u...            1\n",
              "2         AC  configuring account closurethere configuration...            2\n",
              "3      AC_CQ  configuring charge cheque draftthere configura...            3\n",
              "4         AD  introductionstatement property class used spec...            4"
            ]
          },
          "metadata": {
            "tags": []
          },
          "execution_count": 21
        }
      ]
    },
    {
      "cell_type": "markdown",
      "metadata": {
        "id": "cAFaoQJxFLuo",
        "colab_type": "text"
      },
      "source": [
        "#plotting"
      ]
    },
    {
      "cell_type": "code",
      "metadata": {
        "id": "q8vdK7f0p2NR",
        "colab_type": "code",
        "colab": {
          "base_uri": "https://localhost:8080/",
          "height": 1000
        },
        "outputId": "bf6bc290-0440-4bc3-8360-cfebc2429d7f"
      },
      "source": [
        "\n",
        "fig = plt.figure(figsize=(30,18))\n",
        "colors = ['grey','grey','grey','grey','grey','grey','grey','grey','grey',\n",
        "    'grey','darkblue','darkblue','darkblue']\n",
        "df.groupby('Categories').Documents.count().sort_values().plot.barh(\n",
        "    ylim=0, color=colors, title= 'NUMBER OF Documents\\n')\n",
        "plt.xlabel('Number of ocurrences', fontsize = 50);\n",
        "print(df.groupby('Categories').size())\n",
        "plt.show()\n"
      ],
      "execution_count": 22,
      "outputs": [
        {
          "output_type": "stream",
          "text": [
            "Categories\n",
            "AA       1\n",
            "AB       1\n",
            "AC       1\n",
            "AC_CQ    1\n",
            "AD       1\n",
            "AG       1\n",
            "AR       1\n",
            "AU       1\n",
            "BM       1\n",
            "CL       1\n",
            "CO       1\n",
            "DA       1\n",
            "DC       1\n",
            "DE       1\n",
            "DX       1\n",
            "DZ       1\n",
            "EB       1\n",
            "ER       1\n",
            "EU       1\n",
            "FF       1\n",
            "FR       1\n",
            "FX       1\n",
            "GP       1\n",
            "IC       1\n",
            "LC       1\n",
            "MC       1\n",
            "MD       1\n",
            "MM       1\n",
            "MS       1\n",
            "NDF      1\n",
            "NS       1\n",
            "PC       1\n",
            "PM       1\n",
            "PW       1\n",
            "RC       1\n",
            "RE       1\n",
            "RS       1\n",
            "SF       1\n",
            "SL       1\n",
            "ST       1\n",
            "SW       1\n",
            "Skins    1\n",
            "dtype: int64\n"
          ],
          "name": "stdout"
        },
        {
          "output_type": "display_data",
          "data": {
            "image/png": "[encoded data removed]",
            "text/plain": [
              "<Figure size 2160x1296 with 1 Axes>"
            ]
          },
          "metadata": {
            "tags": [],
            "needs_background": "light"
          }
        }
      ]
    },
    {
      "cell_type": "markdown",
      "metadata": {
        "id": "eYXsQEBJGgQ4",
        "colab_type": "text"
      },
      "source": [
        "So the above bar chart represents the number of Documents per label.\n",
        "As i also mentioned using groupby function the frequency with corresponding labels.\n",
        "Accounts has highest number  of Documents"
      ]
    },
    {
      "cell_type": "markdown",
      "metadata": {
        "id": "gA9PgMzBHExM",
        "colab_type": "text"
      },
      "source": [
        "Text-processing:- we have to convert the text to vectorize it after lowing and removing stop words .\n",
        "TF_IDF will give us the most important words in our text\n",
        "\n",
        "The tf=idf model is the model of tf and idf.\n",
        "TF:- term frequency ,it tells us the frequency of words in a given document\n",
        "IDF:- Inverse-Document-Frequency,it tells us ,how rare or commom a word in the document\n"
      ]
    },
    {
      "cell_type": "markdown",
      "metadata": {
        "id": "gD2Ch4PhKbsn",
        "colab_type": "text"
      },
      "source": [
        "TfidfVectorizer class can be initialized with the following parameters:\n",
        "\n",
        "min_df: remove the words from the vocabulary which have occurred in less than ‘min_df’ number of files.\n",
        "max_df: remove the words from the vocabulary which have occurred in more than _‘maxdf’ * total number of files in corpus.\n",
        "sublinear_tf: set to True to scale the term frequency in logarithmic scale.\n",
        "stop_words: remove the predefined stop words in 'english'.\n",
        "use_idf: weight factor must use inverse document frequency.\n",
        "ngram_range: (1, 2) to indicate that unigrams and bigrams will be considered."
      ]
    },
    {
      "cell_type": "code",
      "metadata": {
        "id": "W8S9khGQqMdp",
        "colab_type": "code",
        "colab": {
          "base_uri": "https://localhost:8080/",
          "height": 34
        },
        "outputId": "b1ec9211-bccb-4fbf-8413-a60c4d9c82e5"
      },
      "source": [
        "tfidf = TfidfVectorizer(sublinear_tf=True, min_df=5,\n",
        "                        ngram_range=(1, 2), \n",
        "                        stop_words='english')\n",
        "\n",
        "# We transform each Documents into a vector\n",
        "features = tfidf.fit_transform(df.Documents).toarray()\n",
        "\n",
        "labels = df.category_id\n",
        "\n",
        "print(\"Each of the %d Documents is represented by %d features (TF-IDF score of unigrams and bigrams)\" %(features.shape))"
      ],
      "execution_count": 23,
      "outputs": [
        {
          "output_type": "stream",
          "text": [
            "Each of the 42 Documents is represented by 4190 features (TF-IDF score of unigrams and bigrams)\n"
          ],
          "name": "stdout"
        }
      ]
    },
    {
      "cell_type": "markdown",
      "metadata": {
        "id": "SYwzK32Fauhn",
        "colab_type": "text"
      },
      "source": [
        ""
      ]
    },
    {
      "cell_type": "code",
      "metadata": {
        "id": "3Fm3KQEnq8Gt",
        "colab_type": "code",
        "colab": {
          "base_uri": "https://localhost:8080/",
          "height": 1000
        },
        "outputId": "f59c5303-656c-4665-f4ab-dbe92fb3b9bb"
      },
      "source": [
        "# Finding the three most correlated terms with each of the categories\n",
        "N = 3\n",
        "for Categories, category_id in sorted(category_to_id.items()):\n",
        "  features_chi2 = chi2(features, labels == category_id)\n",
        "  indices = np.argsort(features_chi2[0])\n",
        "  feature_names = np.array(tfidf.get_feature_names())[indices]\n",
        "  unigrams = [v for v in feature_names if len(v.split(' ')) == 1]\n",
        "  bigrams = [v for v in feature_names if len(v.split(' ')) == 2]\n",
        "  print(\"\\n==> %s:\" %(Categories))\n",
        "  print(\"  * Most Correlated Unigrams are: %s\" %(', '.join(unigrams[-N:])))\n",
        "  print(\"  * Most Correlated Bigrams are: %s\" %(', '.join(bigrams[-N:])))"
      ],
      "execution_count": 24,
      "outputs": [
        {
          "output_type": "stream",
          "text": [
            "\n",
            "==> AA:\n",
            "  * Most Correlated Unigrams are: advices, alert, sms\n",
            "  * Most Correlated Bigrams are: account statements, arrangement created, account property\n",
            "\n",
            "==> AB:\n",
            "  * Most Correlated Unigrams are: compensation, nonfinancial, recipient\n",
            "  * Most Correlated Bigrams are: product line, periodic charge, waive charge\n",
            "\n",
            "==> AC:\n",
            "  * Most Correlated Unigrams are: overdrawn, cutoff, bal\n",
            "  * Most Correlated Bigrams are: debit transaction, credit check, available funds\n",
            "\n",
            "==> AC_CQ:\n",
            "  * Most Correlated Unigrams are: stopped, stop, presented\n",
            "  * Most Correlated Bigrams are: message sent, following screenshot, updated status\n",
            "\n",
            "==> AD:\n",
            "  * Most Correlated Unigrams are: hierarchy, unallocated, memo\n",
            "  * Most Correlated Bigrams are: attribute used, t24 account, account property\n",
            "\n",
            "==> AG:\n",
            "  * Most Correlated Unigrams are: tier, context, agents\n",
            "  * Most Correlated Bigrams are: commission type, base date, financial arrangement\n",
            "\n",
            "==> AR:\n",
            "  * Most Correlated Unigrams are: eligibility, intervals, referal\n",
            "  * Most Correlated Bigrams are: credit check, activity class, account closure\n",
            "\n",
            "==> AU:\n",
            "  * Most Correlated Unigrams are: ld, moving, migration\n",
            "  * Most Correlated Bigrams are: internal accounts, usd 50, company code\n",
            "\n",
            "==> BM:\n",
            "  * Most Correlated Unigrams are: blank, business, intentionally\n",
            "  * Most Correlated Bigrams are: left blank, intentionally left, page intentionally\n",
            "\n",
            "==> CL:\n",
            "  * Most Correlated Unigrams are: arrangement, digit, length\n",
            "  * Most Correlated Bigrams are: check digit, account number, configuring account\n",
            "\n",
            "==> CO:\n",
            "  * Most Correlated Unigrams are: ascending, deficit, collaterals\n",
            "  * Most Correlated Bigrams are: collateral collateral, margin rate, market value\n",
            "\n",
            "==> DA:\n",
            "  * Most Correlated Unigrams are: near, query, retrieves\n",
            "  * Most Correlated Bigrams are: account specified, movement details, table holds\n",
            "\n",
            "==> DC:\n",
            "  * Most Correlated Unigrams are: balanced, datacapture, batches\n",
            "  * Most Correlated Bigrams are: following screenshot, record accountclass, screenshot displays\n",
            "\n",
            "==> DE:\n",
            "  * Most Correlated Unigrams are: outward, acknowledgement, header\n",
            "  * Most Correlated Bigrams are: delivery message, message sent, message type\n",
            "\n",
            "==> DX:\n",
            "  * Most Correlated Unigrams are: size, price, predetermined\n",
            "  * Most Correlated Bigrams are: routine called, date option, application specifies\n",
            "\n",
            "==> DZ:\n",
            "  * Most Correlated Unigrams are: exit, gl, enrichment\n",
            "  * Most Correlated Bigrams are: position type, financial reporting, background service\n",
            "\n",
            "==> EB:\n",
            "  * Most Correlated Unigrams are: collaterals, classification, replace\n",
            "  * Most Correlated Bigrams are: currency exchange, enquiry lists, details user\n",
            "\n",
            "==> ER:\n",
            "  * Most Correlated Unigrams are: correspondent, mt103, receipts\n",
            "  * Most Correlated Bigrams are: settlement payment, forward entries, date set\n",
            "\n",
            "==> EU:\n",
            "  * Most Correlated Unigrams are: digit, length, blankconfiguring\n",
            "  * Most Correlated Bigrams are: account number, blankconfiguring account, left blankconfiguring\n",
            "\n",
            "==> FF:\n",
            "  * Most Correlated Unigrams are: suspended, disbursement, bills\n",
            "  * Most Correlated Bigrams are: conditions defined, values defined, record key\n",
            "\n",
            "==> FR:\n",
            "  * Most Correlated Unigrams are: reval, mkt, hedge\n",
            "  * Most Correlated Bigrams are: market rate, rate rate, rate fixing\n",
            "\n",
            "==> FX:\n",
            "  * Most Correlated Unigrams are: leg, july, reserve\n",
            "  * Most Correlated Bigrams are: settlement details, following mandatory, spot date\n",
            "\n",
            "==> GP:\n",
            "  * Most Correlated Unigrams are: processingthis, global, blankconfiguring\n",
            "  * Most Correlated Bigrams are: account number, left blankconfiguring, blankconfiguring account\n",
            "\n",
            "==> IC:\n",
            "  * Most Correlated Unigrams are: min, accountaccrual, waive\n",
            "  * Most Correlated Bigrams are: account records, types charges, capitalisation date\n",
            "\n",
            "==> LC:\n",
            "  * Most Correlated Unigrams are: provision, advising, lc\n",
            "  * Most Correlated Bigrams are: charge code, charge field, t24 customer\n",
            "\n",
            "==> MC:\n",
            "  * Most Correlated Unigrams are: subdivision, head, multicompany\n",
            "  * Most Correlated Bigrams are: subdivision code, company record, lead company\n",
            "\n",
            "==> MD:\n",
            "  * Most Correlated Unigrams are: liq, guarantee, guarantees\n",
            "  * Most Correlated Bigrams are: displays list, delivery messages, netting field\n",
            "\n",
            "==> MM:\n",
            "  * Most Correlated Unigrams are: mm, rollover, mature\n",
            "  * Most Correlated Bigrams are: parameter file, periodic rate, contract maturity\n",
            "\n",
            "==> MS:\n",
            "  * Most Correlated Unigrams are: introduction, blank, intentionally\n",
            "  * Most Correlated Bigrams are: left blank, page intentionally, intentionally left\n",
            "\n",
            "==> NDF:\n",
            "  * Most Correlated Unigrams are: elements, vanilla, marketing\n",
            "  * Most Correlated Bigrams are: deal currency, deal type, marketing exchange\n",
            "\n",
            "==> NS:\n",
            "  * Most Correlated Unigrams are: processingthis, nonstop, blankconfiguring\n",
            "  * Most Correlated Bigrams are: account number, blankconfiguring account, left blankconfiguring\n",
            "\n",
            "==> PC:\n",
            "  * Most Correlated Unigrams are: periods, datacapture, database\n",
            "  * Most Correlated Bigrams are: using standard, accounting process, period end\n",
            "\n",
            "==> PM:\n",
            "  * Most Correlated Unigrams are: arrangement, digit, length\n",
            "  * Most Correlated Bigrams are: check digit, account number, configuring account\n",
            "\n",
            "==> PW:\n",
            "  * Most Correlated Unigrams are: achieve, procedures, monitoring\n",
            "  * Most Correlated Bigrams are: bank wants, information t24, local reference\n",
            "\n",
            "==> RC:\n",
            "  * Most Correlated Unigrams are: digit, length, blankconfiguring\n",
            "  * Most Correlated Bigrams are: account number, blankconfiguring account, left blankconfiguring\n",
            "\n",
            "==> RE:\n",
            "  * Most Correlated Unigrams are: keys, consol, crb\n",
            "  * Most Correlated Bigrams are: balances held, file used, online cob\n",
            "\n",
            "==> RS:\n",
            "  * Most Correlated Unigrams are: overdrawn, 200, 250\n",
            "  * Most Correlated Bigrams are: usd 250, minimum balance, balance usd\n",
            "\n",
            "==> SF:\n",
            "  * Most Correlated Unigrams are: blank, intentionally, swift\n",
            "  * Most Correlated Bigrams are: left blank, intentionally left, page intentionally\n",
            "\n",
            "==> SL:\n",
            "  * Most Correlated Unigrams are: tenor, commitment, participants\n",
            "  * Most Correlated Bigrams are: using option, rate entered, rate period\n",
            "\n",
            "==> ST:\n",
            "  * Most Correlated Unigrams are: introduction, blank, intentionally\n",
            "  * Most Correlated Bigrams are: left blank, page intentionally, intentionally left\n",
            "\n",
            "==> SW:\n",
            "  * Most Correlated Unigrams are: schedules, spec, flows\n",
            "  * Most Correlated Bigrams are: schedule date, ratethe rate, rate reset\n",
            "\n",
            "==> Skins:\n",
            "  * Most Correlated Unigrams are: customer, intentionally, account\n",
            "  * Most Correlated Bigrams are: left blank, intentionally left, page intentionally\n"
          ],
          "name": "stdout"
        }
      ]
    },
    {
      "cell_type": "code",
      "metadata": {
        "id": "GUmyl30yqLw5",
        "colab_type": "code",
        "colab": {
          "base_uri": "https://localhost:8080/",
          "height": 51
        },
        "outputId": "fa30ff65-3234-4b78-eb2e-ad16da278618"
      },
      "source": [
        "for Categories, category_id in sorted(category_to_id.items()):\n",
        "  feature_names = np.array(tfidf.get_feature_names())[indices]\n",
        "print(feature_names)"
      ],
      "execution_count": 25,
      "outputs": [
        {
          "output_type": "stream",
          "text": [
            "['table information' 'good' 'possible make' ... 'intentionally left'\n",
            " 'page intentionally' 'account']\n"
          ],
          "name": "stdout"
        }
      ]
    },
    {
      "cell_type": "markdown",
      "metadata": {
        "id": "jVL53_Exr-6u",
        "colab_type": "text"
      },
      "source": [
        "Multi-Classification models\n",
        "The classification models evaluated are:\n",
        "\n",
        "Random Forest\n",
        "Linear Support Vector Machine\n",
        "Multinomial Naive Bayes\n",
        "Logistic Regression."
      ]
    },
    {
      "cell_type": "code",
      "metadata": {
        "id": "J8hSt95Megpd",
        "colab_type": "code",
        "colab": {
          "base_uri": "https://localhost:8080/",
          "height": 137
        },
        "outputId": "73885524-4422-4d94-b33a-3c4356b60958"
      },
      "source": [
        "df[\"Documents\"][0]"
      ],
      "execution_count": 26,
      "outputs": [
        {
          "output_type": "execute_result",
          "data": {
            "application/vnd.google.colaboratory.intrinsic+json": {
              "type": "string"
            },
            "text/plain": [
              "'configuring account statementsthis topic helps user configure statement property class printstatement applicationaccount statement passbooksbanks choose generate account statements regular basis give customer choice passbook updates options mutually exclusive enable passbook facility account productaccount product category included savings record accountclass applicationpassbook field set yes arrangement accountto generate account statements fields accountstatement records defaulted stmtgencondition acstmtparameter applications read account statements section account user guide information account statement conditions updated using statement property class product account statement conditionsthis topic explains attributes statement property class configuration options explained topic statement preferred date frequencystatements produced working daysfor 19 weekstwice month 15thand last day month 112 months using day month anniversary month end date statement1 frequency 1 field specifies start date frequency producing regular cycle 1 account statement statement cycle shows details entries since last statement cycle regardless cycles value defaulted based customer preferences setup decustomerpreferences customer preferences also specify customer level delivery preferences like print email sms secure message translates carrier t24 delivery module different types statements advices case joint owners defaulting based values given first customer set beneficial ownerthe statement1 frequency 1 field subvalued give specific dates month recurring statement generation case entries last statement date cycle 1 printed subvalued datethe statement1 frequency 2 field specifies start date frequency producing account statement additional statement cycles 2 9 field cycle also subvalued mentioned cycle 1frequency supporteddailyweeklymonthlydefinedoptions available account statementthis section helps user configure fields account stmt tab summary detailed statementthe detailed statements include details account movements generating detailed statement optional detailed statement field set yes account statement includes details movements else summary information alone updatedno activity indicatorthe movement field statement property class specifies whether cycle 1 statements printed movements account since last statementthe options field arey statements produced dates specified regardless whether movementsno mentions movements since last statement statement suppressedno 0 balance mentions account movements statement period ledger balance zero statement suppressed special statementspecial statements set multiple dates user specify unique set dates upfront specific frequency fixed set unique statement dates instead regular frequency follow spl stmt field set yes regular statements get discontinued printed specified unique dates special statements suppressed account zero balance movement statement periodprinting options print attribute name value associated fields given statement property class enable user print statements without imagesprinting option statement imagethe attribute name set product condition level made nonnegotiable arrangement level user customer change attribute value options available passed along statement output sent downstream system printing solution values defaulted based customer preferences setup decustomerpreferences case joint owners system defaults based values given first customer set beneficial owneraccount statement formataccount statement format vary depending product requirementprintstatement holds definition formatting enquiry api used produce statement output next enquiry multivalue field used define different account format enquiry print statementbesides main formatting enquiry additional enquiries specified next enquiry field includes additional information rate change history enquiry format always included account statementdifferent printstatement definitions processed various instances statement service refer product field print statement set yes statement generation process picks appropriate statement type addons arrangement product configuration system record default definitions used combined statement process refer product field set yesthe allowed addon field used setting statement types statement product conditionstatement types allowed addon field set list allowed addons statement typestatement product condition statement type specified user specify statement add system validates statement add specified actually allowed addon statement typethe addon new page field set either yes indicate associated addon output printed new page continuation pageinterest statementsdetailed interest statement scale produced whenever interest applied interest scale set interest rate applied specified period accrual information obtained interest closing advice generates advice interest charges appliedinterest statements produced cob given frequency specified properties set associated multivalued fields stmt frequecny stmt name property indicate frequency generate interest statements relevant activity generated accountsproducestatementaaproperty format activity messaging completes setup mapping produce statement activity relevant ebadvise aa2022 sample statement condition savings account given sample interest statement given belowstmt info property indicates property rate change recorded corresponding enquiry added printstatement record linked allowed addon printstatement account possible print addon new page using addon new page sample account statement product condition stmt info property given sample print statement addon ratechange given belowa sample print statement account including interest statement enquiry given belowbased frequency captured statement property class new activity scheduled update acstmthandoff handoff basic details producing interest statement similar account statementthe core printstatement prints interest statement handoff details available account printing handled outside t24 external printing solution fetches necessary information t24 handoff file produces interest statementcombined statements combined statement consolidation individual statements combined statements set account level based customer choicecustomers choose lead accounts participant accounts accounts refer financial arrangements including loans deposits accounts aa external plus arrangementsevery arrangement underlying account number hence references account numbers also include various types financial arrangementscharges statement generationstatements generated using printstatement t24 statement generated raises recordevent activity arrangement system generates pl producestatement charges account statement assessed collected immediately part periodic charges frequency also configured using configuration charge activity charges periodic charges property classes charges set statements shown belowstatement charge defined either per statement unit charge free statements charge certain numbercalculation assessment charges done either statement produced part service chargeposting collection charges done either statement produced part service charge service charge cycle datenote also possible calculate charges statement produced deferred collected part service chargealigning interest charges statement datesrelative date option r_statement used schedule interest charges line statement dates relative date set based statement date frequency set statement cycle 1it enables align payment frequency interest charges inline statement date multiple owners possible set choice account statements multiple owners using aa customer rolewhen new arrangement created delivery customer attribute aacustomerrole defaulted delivery required attribute customer property read aa customer role details introductionstatement property class used specify account level statement settings stmt frequency start date activity indicator etc arrangements without statement property class account statement functionality continuesworking account statementsstatement property class specifies account level statements statement frequency start date activity indicator etc system supports nine statement cycles defined defaults product level negotiated arrangement level subject negotiation rules arrangements without statement property class account statement functionality continuesit possible specify multiple frequencies different start dates within given cycle however statement includes entries generated last statementat arrangement level user attempts create arrangement system defaults statement condition defined product level user change default value subject negotiation rules statement type addonthe statement type attribute statement condition used specify account format enquiry defined record print statement statement addon multivalue field indicates optional add formatting enquiry allowed addons defined print statement record statement type chosen system validates addon allowed addon statement typestatement addon left negotiable chosen account levelit also optional print addon statement new page screenshot allowed addons rate change balance summary ar statement addons added statement type ar statementcombined statements combined statement consolidation individual statements based customer choice arrangements arrangements include loans deposits accounts aa external plus arrangements summary page added needed user designate lead account account participant accounts indicated combined statement generated designating lead participant accountsin statement condition lead account user input participant account numberscombined statement setup particular cycle lead participant accounts setup available system synchronises statement frequency participant accounts lead account updates attribute lead account referencethe user mentions participant accounts lead account setup frequency system updates lead account automatically statement condition participant accounts cycle account part one combined statement system raises override indicate lead account participant accounts already part another combined statement plupdatestatement activity synchronises statement dates underlying accountstatement combined statement setupthe system raises override ownership constitution number owners roles owners lead participant accounts sameif lead account participant account dormantaccounts external product lines form part combined statement participant account achieved setting participant attribute nonnegotiableexample statement setup lead participant accounts shown belowthe lead account 79073 participants loan 83151 account 78824 customerstatement preferences combined statements statement preferences features driven lead account definitionstatement frequencyif movement activity indicator printing options statement preferences detailed summary statement lead account one nine allowed frequencies statements designated combined statementsthe frequency participant accounts frequency number inline lead account automatically synchronized system frequency cannot amended individual participant account leveltheno activity indicator field set yes required summary statement produced even movements accounts involved combined statementthe statement frequency number participant account level automatically suppressed set frequency number participant account synchronised lead account individual statement generation cycle suppressedclosure participant account produces next combined statement next period removed combined statement definition closure lead account permitted till account removed combined statements setup system raises error account closure cancelling combined statementsthe user cancel combined statement removing participant accounts statement property lead account individual participant account delinked lead accountif statement cycle 1 part combined statement lead account attribute cleared participant accounts system takes prevailing frequency produce standalone statement participant accountif one statement cycles 29 part combined statement statement cycle removed participant accountsstatement types combined statementsthe detailed statement option account property class determines combined statement detailed summarised different statement formats defined various products summary page formatting enquiry also indicated thus possible different summary sections different products within combined statementnote refer product field print statement set yes statement generation process picks appropriate statement type addons arrangement product configuration system record default definitions used combined statement process refer product field set yesstatement processingduring runtime statement processing combined statements standalone statements individual participant accounts suppressedwhen lead account statement processed system recognises combined statement fetches list accounts generate consolidated statement outputwhen producing statement account level preferences formatting enquiry including apy rate change history balance summary etc driven definition lead accountwhen formatting api used system invokes formatting routine instead enquiry combined statements system invokes routine account produce single output relevant statement type driven definition individual participant account includes account specific summary pagethe output individual statements consolidated one combined statementthe list entries participant accounts statement period defined lead account combined statement setup system synchronises participant accounts statement cycle lead account statement printed account system triggers event raise record event activity raised arrangement case combined statements raised lead accountmultiple owners case accounts multiple customers based delivery required attribute customer property customer enabled delivery individual acstmthandoff records generated system generation frequency still driven arrangement level specification possible generate statements different frequency different customers arrangementprintstatement generates separate statement statement handoff customers specify delivery preferences statements based rolesexample customer joint owner arrangement x guarantor arrangement bank specify statement delivered main email address joint owner role business email address guarantor role based customers request statement outputthere number different ways statement generated t24 custom integration required export data another printing solution deliver statement customergiven sample account statement account statement 3 main sectionsstatement header details customer address opening balance statement dates movement details description column based context particular movementfooter details closing balance total credits debitsstatement generationprintstatement used generate statements t24during print statement processing cob dates recycled accountstatement statement handoff createdwhen system generates statement inline event printstatementservice triggered event recorded nonfinancial activity recordeventarrangement used charge setup printstatement holds definition formatting enquiry api used produce statement output default definition record systemdifferent printstatement definitions processed different instances statement service refer product field print statement set yes record statement generation process picks appropriate statement type addons arrangement product configurationthe user recollect system record default definitions used combined statement processthe main formatting enquiry format field additional enquiries specified next enquiry field spooled printed account statement generated combined account setup given see statement generated arrangements combined manner configuring alternate idunlike t24 applications underlying database table application acts example customer aaarrangementactivity used act upon aaarrangementset ebalternatekey released temenos shown belowthe alternateid attribute aaarrangementactivity aaarrangement used configure alternate key definitionthe definition aaarrangement linked alternate key definition aaarrangementactivityit important uniqueness key system make sure alternate id unique within t24 company also across companies t24 installationthe alternate id captured newarrangement takeoverarrangement activities subsequently maintained using purpose built amendaltidarrangement activitythe alternate id becomes effective upon authorisation activityintroduction alternate idbanks might require unique identification number arrangements across product lines alternate id attribute arrangement unique across product lines across t24 companies alternate id set arrangement used place arrangement referenceconfiguring change arrangement bookthere designing content featureintroduction change arrangement bookfor various reasons banks might change arrangement one company another note financial arrangements transferred different company long new company shares fin fileworking change arrangement book systemgenerated account changed one company another using ebcompanychange application account number aaarrangement input contract key field change company account processed close business system moves related aaarrangementactivity records pertaining arrangement account old company new companyafter arrangement moved books company cocode field arrangement account arrangement properties shows new companyexample processing company change request ebcompanychange shows result field yes shown belowthe account record shows cocode new company aaarrangement record shows cocode new company nameconfiguring closed arrangementsthere designing content featureintroduction closed arrangementsthe details closed arrangements available aacustomerarrangementhist used data retrieval working closed arrangementsthe aacustomerarrangementhistapplication maintains closed arrangements similar fields theaacustomerarrangementapplicationthe structure aacustomerarrangementhist application shown id nametypelengthdescriptioncustomeridcus17customer idxxproductlinea19product line arrangements productxxreserved535reserved fieldxxreserved435reserved fieldxxxxarrangementa30arrangement referencexxxxcustomerrolea30the role customer live updated wellxxxxcurrencya3currency arrangementxxxxproductgroupa30product group arrangements productupon closure account system moves arrangement records fromaacustomerarrangement toaacustomerarrangementhistapplicationall closed arrangements available aacustomerarrangmenthistwhen user restore history system moves records fromaacustomerarrangementhisttoaacustomerarrangement applicationexampleconsider user restored history 100227 record system moves record aacustomerarrangement record available aacustomerarrangementhistconfiguring customer preferences alerts advicesthis topic helps user configure customer role customer preferences property classes like activity messaging alertscustomer rolecustomer rolehas configured app format fieldactivity messagingadvices customer configured usingactivity messagingsetup t24 activity mapped delivery module generate delivery messages role specific advices configured required configuration product levelalertsalertsfor arrangements configured product level allow one roles request alert corresponding event using business events managementde customer preferencesthe user configure rolespecific preferred carrier customers send alerts advices usingcustomer preferencesintroduction customer preferences alerts advicesactivity messagingproperty class specifies advices generated based activities happening arrangement example overdraft ageing account becoming dormant interest rate change advices also configured sent advance event happening example interest rate change alertsproperty class primarily controls real time alerts sent customer different events arrangement like financial transactions maintenance activities carried customer accountscustomer rolespecific permissions sending activity messages alerts configurable product levelcustomer preferencesallows configuring preferred carrier customer role arrangementworking customer preferences alerts advicesadvices sent customer based activities inactivity messagingfor arrangementalertsare triggered occurrence certain events arrangement preferred carrier details sending advices alerts updated incustomer preferences customer role specificpreferences possible thereby carrier determined based customers role arrangementthe list events customer subscribe filtered based role arrangementillustrationthe arrangement illustration three customersowner arrangementjoint owner guarantor advices alerts configuration setup illustrates advices alerts generated customers based preferences defined customer rolescustomer roleduring arrangement creation customers involved arrangement recorded role arrangementaa customer rolerecords customers role arrangement delivery customer field indicates delivery messages namely alerts advices triggered customerapp format four digit acronym records customer role specific preferences acronym need unique allows usage acronym two different customer roles like whole loan guarantor shortfall guarantor different roles liability perspective share acronym gutr eases setup preferences example illustration customer roles owner joint owner guarantora sample aacustomerrole record owner role given belowa sample aacustomerrole record guarantor role given belowa sample aacustomerrole record joint owner role given belowcustomer preferencesde customer preferences records customers role specific preferences illustration contains three customers190200 owner account preference email 190201 joint owner 90202 guarantor preferences sms bothnote email id phone number recorded customer application sms generation used generating de carrier190200 owner email preferencede customer preferences setup email preference message group accountadvices account advice arrangement creation 8581aa part message groupthe screen shows account opening preference set email carrier ownersystemgenerated de product arrangement opening owners role gb0010001c1902008581aaownr carrier information generated automatically using customer details email id per preferencea sample de product given belowthe corresponding de address given below190201 joint owner sms preferencede customer preferences setup sms preference message group accountadvices account advice arrangement creation 8581aa part message groupthe screen shows account opening preference set sms carrier joint owner jnto systemgenerated de product arrangement opening owners role gb0010001c1902018581aajnto carrier information generated automatically using customer details sms per preferencea sample de product shown belowthe corresponding de address shown below190202 guarantor sms preferencede customer preferences setup sms preference message group accountadvices account advice arrangement creation 8581aa part message group screen shows account opening preference set sms carrier guarantorsystemgenerated de product arrangement opening owners role gb0010001c1902018581aagutr de product system generated based customer details holds sms contact number per customer preferencea sample de product shown belowthe corresponding de address shown belowdelivery message arrangement openingin illustration arrangement account created detailscustomer 190200 ownercustomer 190201 joint owner customer 190202 guarantor delivery reqd field updated three customers shown belowin arrangement creation screenshot advice number aa2001 mapping key 8581aa1 three delivery referencesthe mapping key screen shown belowthe activity message delivered arrangement three customer involved based setting activity messaging conditionthe user view corresponding delivery messages corresponding sections overview screenalerts arrangementsthe illustration contains three customers190200 owner email preferencede customer preferences setup email preference message group balancealerts message record balancealerts 8210ac part message groupthe screen shows balancealerts preference set email carrier ownersystemgenerated de product balancealerts owners role gb0010001c1902008210acownr carrier information generated automatically based customer details email id per customer preferencea sample de product given belowthe corresponding de address given below190201 joint owner email preferencede customer preferences setup email preference message group balancealerts message balancealerts 8210ac part message groupthe screen shows balancealerts preference set email carrier joint ownersystemgenerated de product balancealerts joint owners role gb0010001c1902018210acjnto carrier information generated automatically based customer details email per customer preferencea sample de product given belowthe corresponding de address given below190202 guarantor email preferencede customer preferences setup email preference message group balancealerts message type balancealerts 8210ac part message groupthe screen shows balancealerts preference set email carrier guarantorsystemgenerated de product balancealerts guarantors role gb0010001c1902018210acgutr de product system generated based customer details holds email address per customer preferencea sample de product given belowthe corresponding de address given belowalert configuration arrangementfor arrangement opened earlier illustration arrangement conditions alerts updated product conditionthe account overdrawn event subscribe alert owner joint owner guarantor shown belowthe working balance event subscribe alert owner joint owner note guarantor cannot subscribe alert seen belowalert message eventthe working balance event account balance event typeas seen event type linked eb activity ac0600 corresponding eb advice message type 8210 mapping key 8210ac1as seen mapping key 8210ac1 appropriate mapping app formatworking balance belowin example alerts subscribed customer working balance falls 1000 example deals threshold amount subscriptionsit significant note possible different threshold amounts customer subscriptionrequest alert account owneralert subscription successful ownerrequest alert joint owneralert subscription successful joint ownerrequest alert guarantorthe system generates error subscribing alert guarantor permissions roleaccount balance goes thresholdwhen account balance threshold 1000 item created event list seen belowthis event moved event log running event servicethe alert delivery message generated three customerseffect changes arrangementactivities arrangements like change customer change role change product results reevaluation activity messaging alert subscription customer role product requiredthis ensures system send irrelevant inappropriate alerts advices customers longer qualified alert advice arrangementtroubleshootingcustomer preferences advices alerts configuration check listis delivery customer field set yes aa customer roleis four digit acronym input app format field aa customer roleis activity messaging set desired activities customer roles requiredis alert condition set desired events customer roles requiredcustomer preferences advices alerts run time check listhave input carrier information details address phone number fax sms contact number etc customer recordis delivery customer set yes role aaarrcustomer record requiredare advices generated desired rolesnote roles specified advices generated customersare able set alert request desired rolesnote roles specified alerts set customershave set customer preferences de customer preferences tableis preferred carrier choice input message group role requirednote system automatically generates de product records based informationis de carrier auto populated carrier information customer tablehave mapped eb advices desired de mapping record advices alertshave mapped app format de mapping appropriatelyconfiguring document managementthis topic helps user set document management loans deposits accounts transaction document set document management applicationfor transaction based documents following set done document management applicationthe user created record arrangement activity dmapplicationinfo since transaction documents going received based activities happening arrangementillustration setupa sample set required transaction documents shown sample setup dm classification shown belowa sample document type acagrmnt record shown belowa sample document type cusmandate record shown belowa sample setup document status shown belowdocument groupingdocgencondition application used define conditions grouping documents dmapplicationinfo aaa record id user create docgencondition specifying conditions activities document management set upafter creating document grouping required document needs set user defines documents needs received document group specified documentgenconditionrequired documentsthis application specifies requirements documents tracking document group defined docgencondition file enquiry arrangement overviewenquiry designer aatxndoc record used viewing reversing editing uploading transaction documentsdril downs enquiry designer shown belowapart transaction documents users want upload document images could use two new enquiries provided correspondence tab capture new document capture new imagefor capturing new document aacaptureuploaddoc enquiry usedthe following imdocumentimage capturedocaa version attached capturing documentarrangement overview document images captured viewed arrangement overview screen tab correspondence tabfor aadocimagelist enquiry created show documents images capturedintroductionthe document management dm module provides functionality manage documents obtained customers availing various facilities bankwith document management possible specify details classification types documents conditions required documents customer relation established various facilities offered customers module tracks status required documents produces appropriate overrides errors required documents invalid statusbanks prefer view documents images captured loan deposits accounts arrangement rather viewing separatelydocument management maintained arrangements arrangement level user upload documents arrangement level loans deposits accounts arrangement example whenever customer wants open loan bank bank obtains loan agreement customer stores arrangement level rather customer level enables bank users view loan agreement arrangement arrangement overview screenworking document managementin arrangement overview screen user upload reverse documents images correspondence tab additional details section loans deposits displays messages well documents images arrangement documents could uploaded viewed reversed status document also viewed edited arrangement accounts documents images displayed arrangement documents could uploaded viewed reversedon selecting correspondence tab following options displayeddocument management aa divided three partsfor capturing new documents images transaction based documents example bank would like capture images signatures nontransaction based documents like identity proof onfor transaction based documents example whenever loan arrangement created bank prefers collect loan agreement upload arrangement level easy retrieval purpose committing arrangement message received loan agreement appears options received received authorising arrangement details transaction based documents updated status received received based input given user committing arrangement start date options view update reverse upload transaction documentsto view captured documents non transaction documents images like signature card driving licence customer given opening account loan purpose user view edit reverse documents images uploadedillustrationthe configuration already done document gen condition docgencondition activities requires document management example whenever new loan arrangement opened loan agreement receivedexample new arrangement created override message displayed stating received loan agreement aaa203 100336 customer arrangement created two options say whether received receivedonce option selected arrangement authorised found correspondence tab additional details arrangement overview screen displays messages documents imagesin example user selected received documentin arrangement overview screen correspondence tab additional details could user view document detailsactivities additional details shown belowmessages additional details shown belowin transaction documents options availableview view documents uploaded example loan agreement collateral documents edit update transaction documents received example update description end date document status received received reverse user wants remove document reverse option used reversing documentsupload user wants update transaction documents received edit option used user wants update transaction document like description status signature date document sequence upload documents upload option usedon selecting upload option transaction document screen displayed user could input description document status could changed received received information requiredthe user change status received received give description document receivedtransaction documentthe details transaction document application updated requiredafter updating record user commit record opens one version uploading documentthe user provide description document commit recordon committing record system opens associated version uploading documentsthe user select document location stored uploadingonce record committed correspondence tab additional details section arrangement overview screen selected view updatesthe updated record shows description status document changed received receivedthe user select view option view uploaded documenton selecting view record following record displayed user select view uploaded document referencethe user reverse document uploaded required selecting reverse optionon selecting reverse option loan agreement document displayed could reversedif user wants update transaction document received details like end date document sequence user select edit option update document detailson selecting edit option user update transaction document detailsthe activities documents need received already configured docgencondition activities system raises override message system raise overrides messagesfor example user indicate lendingupdateaccount activity document gen condition therefore activity triggered arrangement system display override message document trackingon selecting new activity tab user activities displayed user selects lendingupdateaccount modify conditions commit record system generate override message document tracking received receiveda sample arrangement activity shown belowon committing activity override message displayed document trackingif user wants update documents activities set document grouping docgencondition subsequently document required application alsoexample user wants upload document increasing commitment amount user add activity document grouping subsequently document required application followsa sample setup required documents shown belownow user selects lendingincreasecommitment activity new activity tab system triggers override message per set done document tracking received receiveda sample arrangement activity shown belowon committing activity system displays override message received agreement customerafter authorising activity transaction document updated viewed correspondence tab arrangement overview screenthe user follow steps document update updating description details status etc upload document using upload optionif user wants capture transaction documents arrangement capture new document option used images capture new image usedimage documentthe system displays capture documents images separate enquiry transaction documentsexample user wants capture signature customer select capture new image upload signature customer selecting capture new image following screen appearsthe user give description select type image whether signature photos commit record opens another version upload imagesa sample im image upload application shown belowthe user upload signature commit record viewed correspondence tab arrangement overview screen selecting view icon user view signature customerif user wants reverse signature selecting reverse icon reversal images done applies documents alsoa sample reverse document application shown belowif user wants edit description captured documents images edit option useda sample capture image application shown belowthe user edit description commit record viewed documents images correspondence tabconfiguring product availabilitythis topic helps user configure variations product designercurrency company specific choicefinancial institutions make products conditionally available specifyingallowed currencies currencies products available saleallowed companies t24 companies products available salevariation specific productvariations enabled single product different pricing strategies mechanism makes use different conditions multiple variations based characteristics channel customer variety product customer receives dependent eligibility priority order client eligible multiple variations product availability based variations defined part product designer defining variationsprior creating products variations named variations defined used product designer specify priority within ids product conditionsvariations defined aaproductvariation virtual table table holds list available product variations sample records shown conditions variations aapropertyclass type variation product condition one additional component accepts value defined virtual table condition defined aaprddesxxx property class supports variation validation done check valid variation defined aaproductvariation virtual table error message displayed variation available example interest product condition fixedrateusd20120101 key fixedrateusdinternet20120101 hold specific interest conditions products subscribed internet third component internet key valid entry eblookup file variation enables products offered customers various channels sample product condition shown product designerfor product variations user specify required variations default product available customer qualified variation property variation field product designer user select variation support customer eligible one variation variation used determined based priority defined variation tabif product defined two variations gold silver eligibility conditions given gold silver customer eligible one variation priority defined determines variation usednote eligibility conditions also configured default product required sample screen product designer variations setup shown channel availabilityfinancial institutions define channel given product available sale using channel exclude fields aaproductdesignerchannel valid ebchannel indicates channel used customerexclude indicates product available sale specified channels corresponding tables updated proof publishing productif channel field defined channels considered available channelsin screenshot product available channelsavailable channels indicated usinglist channels available multivalued channel fieldsthe screen indicates product available internet mobile channellist channels product availableusing associated set multivalued channel fields checking exclude fieldthe screen indicates product available internet ie available channels except internet channelthe channel product available sale modified stage product life cycle change list available channel applicable new arrangement new offers affect existing arrangementsthe available channel definition cascaded inheriting child products ie available channels specified parent product affect child productsexample channel field specified internet mobile parent product left blank child product child product inherit available channels parent therefore available channels parent product available internet mobile channelline businessthe line business attribute used define availability product certain lines business value attribute valid record stlineofbusiness tableline business defined describe cost centres bank align later particular branch depending construct requirementthe exclude field used restrict particular line business using productexample five line businesses consumer banking retail brokerage reinsurance small business banking wealth management configured stlineofbusiness application user prefers restrict line business reinsurance using product value reinsurance selected line business field exclude field set yesintroduction product availabilityproducts conditionally available specific currency companya product available sale specific channels line business products possible define special pricing discountsworking product availabilitythe following explains working variations channels line business creating arrangementscurrency company specific product catalog enquiry eligible products enquiry scv list products available sale specific company channel enquiry runvariationthrough userdefined rules users create segmentation rules eligibility property class example platinum customer bronze customer standard customer internet make variation products available rules met read eligibility property class information variation updated arrangement arrangement creation level arrangement channel channel field arrangement activity user specify channel system defaults based channel specified ofs source record used requestit stored activechannel arrangement recordeligibility evaluated arrangement creation default product defined channel eligibilityebchannel input valid channel activity channel defaulted based channel manually input userproduct linechangechannelarrangement used change arrangement channelchannel captured migration arrangements legacy systemline businessthe required line business chosen new arrangement opened introductionthe main features aa module areability build families productsability inherit properties product family structureability determine properties product comprised ofcontrol default values applied product arrangementsdated conditions productsfull control scope negotiation product arrangement conditionscontrol negotiation attributes timedesign proof publish lifecycle product managementreadproperty classesuser guide details individual classesproduct builderand cataloguethe product builder constructed premise products constituted number fundamental business components defined inproperty classes property classes consists number conditions example interest rate day basis margin control characteristics product number actions control processingfor example loan interest deposit interest penalty interest commission share basic conditions actions therefore described generic interest property class users ability describe characteristics processing required support interest based characteristics productthe advantage approach arrangement architecture provides consistency high levels functionality across products example loan tiered interest credit card savings account also tiered interest default similarly software enhanced support new property class feature capability becomes available across whole system within specific product linethere finite number property classes example interest term amount charge payment schedule transaction rules temenos defines combines describe highlevel product classifications product lines defined inaaproductline example lending deposits accounts credit cards product lines basis creating products sold servicedproduct builder hierarchical allows derivation product structures higher levels example product example 15 year fixed rate mortgage derived aproduct group example mortgages derived product line example lending addition structural hierarchy product builder enables definition families products product inheritance allows derivative product defined simply specifying parent product different conditions approach offers rapid timetomarket new products simplified maintenance related producthomeaccountintroductionaa products account based use account property class create associated account record arrangement productthis property class manages descriptive classification details arrangement used create maintain account record related arrangementalthough account names account specific user also default generic titles product replace give additional details arrangement levelproduct linesthe following product lines use account property classaccountsagentdepositslendingrewardssafe deposit boxexternal accountsinsurance external productproperty class typeaccount mandatory property class associated listed typesdatedvariations supportedenable externalenable external financialall attributes account property stored arrangement level track underlying productproperty typecreation t24 accountwhen user creates financial arrangement system generates t24 account record account record generated allocated standard t24 account number according rules defined company applicationthe account application needs configured generate ids automatically arrangement module generate account recordthe account record built mapping relevant fields deptacctofficer customer account limit properties arrangement layout account recordthe account record created cannot modified directly using account application instead associated properties modified using appropriate maintenance activities aaarrangementactivity account record holds arrangement number arrangement idfieldthe difference arrangement account records t24 accounts followsthere conditiongroup allocatedthe interest charges module apply accountsusing arrangement account t24 applicationsin order pay funds withdraw funds arrangement existing t24 application allows account defined used example fundstransfer tellerin application user specify account number mnemonic alternate account id linked arrangement number arrangement company transaction use arrangement account application different financial company arrangement actual account number option allowedthe alternate acc ids field set accountparameterto specify arrangement number alternate account number fundstransfer application used drawdown commit deposit funds arrangement debitacctno creditacctno used debit credit account record associated aaarrangement respectivelybalance prefixaccount property class holds balance prefixlendingcurrent due aged unspecified unallocated debit availabledepositscurrent due aged unspecified unallocated debit expected payableaccountscurrent unspecified unallocated debitagentunspecifiedsafe depositboxcurrent unspecified expected unallocated debitexternal financialcurrent externalrelated balances loanscurrent principal balancefor loan contract current principal reflects amount disbursed yet due repaid current principal identified prefix curdue principal balancefor loan contract due principal reflects loan amount disbursed due repayment due principal identified prefix dueaged principal balancefor loan contract aged principal balance reflects due amounts loan aged according stages defined overdue property conditiondue balances aged date since bill generated due balance passes number days specified overdue property condition billed balance assumes associated status defined condition record single arrangement may several aged due balances reflecting different ages outstanding billsthe aged principal balance identified prefix associated status overdue propertyunallocated credit balancethe unallocated credit balance reflects general credits made arrangement balance also used hold payments made future issued bills prior due date practice defined paymentrules property requires advanced payments repaying current principal repayment amount allocated unallocated credit balance unallocated credit balance identified prefix uncunallocated debit balancethe unallocated debit balance reflects general debits made arrangement identified prefix undavl available balancethis used scheduled disbursement indicates loan amount available disbursement contingent credit balance loan credited disbursement bill made payabledepositsthe deposits product line following balance prefixesexpected principal balancewhen new arrangement created system credits balance type indicate pending payment awaited customer currently sign positive expected principal identified balance prefix expcurrent principal balancethe current principal balance reflects payment made customer towards deposits may may equal expected balance identified balance prefix curaged expected balancethis used cases customer made payments time expected principal becomes overdueunallocated credit balanceaccountscurrent account balancewhen current savings account created possible debits credits account update relevant account balances interest calculations done based balancesattributesattributes associated account property class described belowaccount definition product levelreporting classificationin aa product category used reporting balance sheet purposes usually category allocated specific product family products although mandatory category amended required arrangement levelgeneric arrangement titles namesalthough account names account specific generic titles defaulted product accounttitle field replaced given additional detail arrangement levelthe shorttitle field abbreviation account title used enrichmentcurrency market position typethe currencymarket arrangement currently set 1 positiontype set traccount definition arrangement levelattributes used account definition arrangement level described belowarrangement titles namesproduct definition defaults accounttitle shorttitle overridden allowed product attribute control settings customerreference allows reference known customer arrangement specified informationalternate referencesthe following options available specifying alternate access references accountmnemonic field alternate key defined user reference account name arrangementalternateid field multivalued accountparameter linked altacctparameter file alternative references specifiedthis used record references arrangement may also referredif iban number generated product value set yes generate iban field number auto generated accounts created productbalance treatmentspecifies account offbalance onbalanceoffbalance accounts maintain principal balance curaccountinf balance type opposed curaccount balance typevalid options followsmemo indicates account offbalance account set memo system expects special balance type curaccountinf reporting type set internal following accounts set memoar accounts bn balance netting installed companyexternal financial accounts xp null indicates account real accountexternal postingspecifies accounting directly raised either within t24 outside t24 account mapped externalposting base account record valid options followsyes accounting directly raised account null also indicates functionality selecting yesno accounting cannot directly raised account accounting account happen result posting happening one child accountsmulti currencyspecifies account supports multiple single currency valid options followsyes account supports multiple currencies accounting respects entry different currency starts maintaining balanceno account support multiple currencies null also indicates functionality selecting noon restructurethe possible values restructure followscapitalise internal restructure capitalises current period interest charges defined payment schedule conditionnull internal restructure capitalise current period interest charges defined payment schedule conditionearly processingindicates schedule processed intraday instead scheduled close business early schedule processing process scheduling interest charges scheduled date earlier cob process gives flexibility financial institutions dealing interdependencies t24 systems respect interest charges postinghvt flagthe hvt flag set yes iindicates whether account high volume transaction account applicable accounts product linepassbooks arrangementspassbook field account property class controls printing passbook account valid arrangement contract category code defined savings record accountclass applicationit possible change value passbook field yes yes existing arrangement update activity accountsupdateaccountdate settingsbasedatetype field used aa calculate several date fields arrangement accepts values agreement start agreement default agreement option results dates calculated based upon effective date newarrangement activitystart option results dates recalculated first disburse deposit activity occursanniversary field used store anniversary account restriction purposes value stored format mm dd conjunction restrictions field also used general configuration across aaperiodicattributes classesdate convention date adjustmentdateconvention dateadjustment settings indicate action taken derived date nonworking day four date convention optionsbackward payment date moves backward last working daycalendar payment date move regardless whether working dayforward payment date moves forward next working dayforward month payment date moves forward next working day provided within month within month possible payment date move backward last working dayfor date conventions except calendar dateadjustment used specify whether new date represents adjustment value date entries adjustment period value processing dates holiday schedule country arrangements currency referred determining nonworking days users add additional countries using busdaycentres field whose calendars also checked regard holiday validationshadow accountwhile entering new arrangement account creation system updates field based value specified product condition account property classif field yes value balance details account maintained within t24 held external dda system within t24 static information account maintainedif field default null value like normal t24 account balances maintained t24 inactive monthsindicates number months carry values 1 99 without customer activity arrangement account declared inactive based value arrangement accounts marked inactive field mutually exclusive dormancy property classbase date keythis provides user option specify basis deriving future event dates definition currently used deriving dates change product rollover renewal periodic reset events values allowed followsprevious last adjusted event date used deriving subsequent event date base last unadjusted event date provided user used deriving subsequent event date null change product rollover renewal events base date used deriving every event date periodic reset event actual date used deriving every event date referral codethis field optional multivalued default value allow duplicates specifies conditions account details details entries account included end day report referral account officer responsible referral conditions defined depending transaction transaction code amount sign balance account code valid record referal table portfolio idan arrangement linked customers portfolio reference secaccmaster id using field portfolio linked arrangement also taken consideration portfolio valuation customer relevant product conditions portfolio reference tp belong customer arrangementparentbvdateholds date latest internal restructuring network parent accounts account latest date network parent accounts account changed back value date statement entry prior date statement entry copied parent account adjusted date original statement entry impactedallowedbvdateholds latest restructuring date network parent accounts account set date account added network parent accounts either direct indirect parent account back value date statement entry prior date transaction rejected error messagebalance conversion marketthe currency market used merging balances multicurrency accounts limit validations indicated field entered currency market account usedlimit accountindicates account contingent account created limit balance purposes read accounts userguide overdraft limits section informationposting restrictionat arrangement level posting restriction code defined postingrestrict used restrict followingall debitsall creditsall transactionsother fields defined related posting restriction multivalue group arestart date used specify posting restriction applicable arrangement start date future date start day sod base account updated posting restrictionthere two ways effect restriction immediatelywhen start date left blank restriction effected immediatelywhen start date defined current system date restriction effected immediatelyit allowed prior toarrangement start datecurrent system date arrangement activity date backdatednote allowed update start date restriction activeexpiry date used specify posting restriction finisheswhen expiry date future date start day posting restriction removed base account recordwhen expiry date defined meant posting restriction entire life arrangementnote allowed arrangement start date allowed start dateblocking unblocking reasonpredefined set blocking code defined eblookup blockreasoncodes un blockreasoncodes virtual table linked posting restriction blocking unblocking code linked corresponding posting restriction defining posting restriction table without system allow link blocking unblocking codeblocking unblocking free textused capture free text informationbalance nettingattributes related balance netting described belowmemo accountsbalancetreatment attribute allows define account product offbalance sheetwhen set proof publish arrangement level system expects balance type account property suffix inf balance type set reporting type internal example balance name account property ac balance type curbalanceinfeven account set balance memo fully operational account customer perspective cheques issued incoming outgoing payments handled usual transactions posted converted memo posting account real entry diverted linked real account specified linked ac number interest fees specified memo account treated memo interest fees system automatically suppresses real accounting pl payables receivablesit still possible specify capitalisation frequencies memo interest fees read settlement property class details thatlink ac number attribute used specify diversion account arrangement levelthis gets mapped autopayacct field account recordfor normal ar account link ac number populated would simply translate auto pay account feature incoming real entry simply diverted linked account read memo accounting entry transaction accounts financial accounting userguideparent account attribute used specify parent account within bundle hierarchy arrangement levelinput attribute allowed arrangement part bundle hierarchythese memo accounts part bundle balance netting hierarchy read balance netting user guide detailswhen part hierarchy either accounts transactions done performed summary accountwhen defined transaction account important linked real account funds diversion reflect aggregate position per currency link ac number attribute used purpose external posting attribute used control raise postings accountif set system post transactions directly accounts posting accounts result posting happening one child transaction accounts result funds diversion memo transaction onbalance accountthe term external means application outside core accounting engine means even aas schedule processing cannot raise accounting hits principal balance account example capitalise transactions tr account poolthe system uses linkacnumber memo posting tr account real posting relevant ct account credit debit hits tr accountusing parentaccount every level tr cs sa etc system also knows raise memo posting parent accounts wellexample hierarchy sa1 parent cs1 cs1 parent tr1 ct1 corresponding currency top account debit hitting tr1 results followingmemo dr tr1real dr ct1memo dr cs1 defined parentaccount tr1 memo dr sa1 defined parentaccount cs1 transaction done tr observed reflected memo tr memo sa real posting ct individual posting reflected linked ac number ct account relevant balances also updated ebcontractbalancesmulti currency memo accountsmulticurrency attribute allows enable memo account maintain balances acctbalanceactivity ebcontractbalances currencies currency account itselfa multicurrency summary account balance netting hierarchy children belonging currencywhenever transaction hits child gets replicated parent summary level parent summary account enabled multicurrency system starts maintain balance based incoming currencyaccruals capitalisation makedue pay still happens currency account system convert balances across currencies account currency aggregate source balancebalance conversion mktattribute optionally used dictate rates conversion limit check interest processing happensarrangement conditionthe following attributes account property class better captured arrangement levelbundle arrangement used capture arrangement reference bundle hierarchylink ac number onbalance sheet diversion accountparent account parent account within bundle hierarchy input allowed bundle arrangement specified periodic attribute classesfulldeposit periodic rule control deposit full commitment amountactionsthe account property supports following actionsaction nameactioncredit applies unallocated amount credit gpd1 arrangement unallocated credit balance arrangementcrmovementapplies credits arrangement account product line current account balancedebitapplies unallocated amount debit arrangement unallocated debit balance arrangementdrmovementapplies debits arrangement account product line current account balancedisburseused loan disbursed action results current balance account property debitedmaintainused whenever one properties linked t24 account record customer deptacctofficer limit account modified action generate accounting movement updates related t24 account record reflect values arrangement propertythis results creation t24 arrangement account newarrangement activity processeda scheduled maintain account activity lendingmaintainaccount raised future effective date processed start day effective date maintain activity updates account record future dated changesmakedueapplies amount principal due repaid due account property balance reduces current account property amount made due amount made due determined associated bill made duerepayallocates amount principal repaid appropriate account balance depending paymentrule applied repayment made billed current amountsprocessing determines amount balance credited based paymentrule definition result credit applied cur due aged balances account propertyupdateused apply changes account property attributes result accounting updatescapturebillcaptures account details bills generated lending deposits savings accounts product linesaccountallocateused balance update account accountbalancemovementused migration ac ar account account balance movements accountbalancetransformused raise entries curaccount aasuspenseaccountcanceldepositused cancellation deposit arrangementaccountcancellendingused cancellation loan arrangementaccountchangeused update changes account conditionaccountchargeoffused chargeoff balances accountcheckcancelused check cancel period funding disbursing arrangementaccountclosurevalidateused check closure validationsaccountcreateresidualused creation residual amount amortisationaccountcreditprenoteused credit action t24 either shadow ddaaccountdatacaptureused data capture legacy account ar accountaccountdelinkused balance netting delink accountaccountdepositused deposit accountaccountexpirebillused expire bill action account property classaccountforcecloseused clear external balances force close arrangementaccountforcesusptransformused suspense forms interest charges payment scheduleaccountforcecreditused force credit action external ddaaccountforcedebitused force debit action external ddaaccountfuturecreditused future dated force credit action external ddaaccountfuturedebitused future dated force debit action external ddaaccountissueclosurebillused issue closure bill arrangement accountpayused payout action accountsaccountreceiveused receive funds accountaccountredeemused arrangement matured balances redeemed customer accountreservefundsused debit action t24 either shadow ddaaccountrestructureused balance netting restructure arrangementaccountsettlesuspused suspended balances settledaccounttransformused raise entries aasuspense curaccountinfaccountupdateaprused update annual pay rate apr calculation apr type apr rate account conditionaccountadjustbillused adjust account balance bill accountresidualused allocate residual funds amortisation schedule accountagebillsused age account balances overdueadvancerepayused balances paid advanceaccounting eventsthe following actions generate accounting events defined accounting fieldcreditcrmovementdebitdrmovementdisbursemaintainmakeduerepaycapturebilladjustbillresidualagebillsadvancerepaylimits interactionthe account property directly interact limits system associated arrangement account record closely linkedthe limit property condition specifies limitreference used arrangement product limit reference used related account recorddeliveryaccount generates acknowledgement advices messages predefined t24 delivery eventsconfiguring simulationsthe archival simulation records explained belowthe aasimulationrunner record maintained archive table holds default retention period simulations user modify retention period requiredthe retention period simulation calculated based simulation run date aasimulationrunner recordthe arcaasimulationrunner routine archives simulation records triggered normal archive process aasimulationrunner archive type added arcgenericrequestintroduction simulationssimulation process replicating real time scenario new existing arrangement without updating actual files system simulation mirrors real activity stores data simulated files simulation data thus captured stored respective property classes application name aasimpropertyclass example aasimtermamount simulation supports execution transaction current future date effective results simulation run stored special filesworking simulationsthis topic explains simulations processsimulation capturethe simulation capture process similar process used creating new arrangement using aaarrangementactivity applicationdepending setup structure product user change following defaulted conditions fit simulation requirementsinterest rate maturity date contract forward dated conditionspecific repayment amounts repayment schedulethe aasimulationcapture application used capture arrangement change informationall defaulted negotiated conditions captured application stored individual sim files property like aasiminterest aasimcustomer aasimtermamount etc files similar ones created nonsimulated arrangement created like aaarrinterest aaarrcustomer aaarrtermamountsimilarly sim files also created following filesaaarrangementsim stores details simulation arrangementaasimulationcapture clone aaarrangementactivity provide basic details simulation ref field stores simulation runner reference easy retrievalaaactivityhistorysim clone aaactivityhistory holds history activities captured aasimulationcapturethe simple simulation capture new arrangementthe show tabs icon expansion provided tool bar aasimulationcapture screen default icon disabled gets enabled validation activity related particular property allows future date conditionson authorising record system updates aasimpropertyclass files properties arrangement record aasiminterest capturethe record aasimtermamount capturenow reference aaarrangementsim id used run simulation check information required customer make decisionsimulation runnerthe aasimulationrunner application used run simulation data captured aasimulationcapture information like simulation end date currency simulation run date simulation date reference simulation capture added later stageinformation storage retrievalonce aasimulationrunner record authorized tsaservice agent record bnk aasimulationservice needs running action also stores required data different files later retrievalafter service run completed sim files information retrieval updated examples sim files fbnkaabilldetailssim fbnkaascheduledactivitysim fbnkaaaccountdetailssim fbnkaainterestaccrualssim etcthe fsimulationdetails file holds sim files information also updated running simulation servicethe record application aasimulationrunner complete information activities performed running simulationthe user amend record simulation inserting adding activities like prepayment payment rules change etc run respective datesif adhoc activities added date activity run specified run activity field set yesexample amending record end date 1st march running service activities till 1st march simulated updated runner record dates schedules projectedexecute simulationafter storage information onto different files user opt live arrangement system depending upon customers final decision achieved setting execute simulation field aasimulationrunner yesrules archivingsimulations part ongoing origination process archived retention period origination process initiates archival simulations separate flowwhen simulation capture record used one simulation runner records simulation executed times retention period calculated execution date recent simulation runnerthe simulation tables aaarrangementsim aaactivityhistorysim global arrangement accumulate changes multiple simulations hence archival happen simulations arrangement readyaasimulationrunner cannot used unauthorised aasimulationcapture records'"
            ]
          },
          "metadata": {
            "tags": []
          },
          "execution_count": 26
        }
      ]
    },
    {
      "cell_type": "code",
      "metadata": {
        "id": "phxHC0_ZZ1bi",
        "colab_type": "code",
        "colab": {}
      },
      "source": [
        "from itertools import islice"
      ],
      "execution_count": 28,
      "outputs": []
    },
    {
      "cell_type": "code",
      "metadata": {
        "id": "tr2ddAW1knXo",
        "colab_type": "code",
        "colab": {}
      },
      "source": [
        "import math"
      ],
      "execution_count": 29,
      "outputs": []
    },
    {
      "cell_type": "markdown",
      "metadata": {
        "id": "FEqMWH4rqn4t",
        "colab_type": "text"
      },
      "source": [
        "So the below code is very important ,it split the rows  in k words and make a dataframe using pandas.explode.\n",
        "Which make our data more readable and at the same time more suitable for classifiers"
      ]
    },
    {
      "cell_type": "code",
      "metadata": {
        "id": "7KfpZ1wp1Wjo",
        "colab_type": "code",
        "colab": {
          "base_uri": "https://localhost:8080/",
          "height": 102
        },
        "outputId": "fde82255-d2c2-407f-f64d-cdd148615b39"
      },
      "source": [
        "for i in df.index:\n",
        "  \n",
        "  corpus=str(df[\"Documents\"][i])\n",
        "\n",
        "  x=corpus.split()\n",
        "  Len=len(x)\n",
        "  chunk=1000\n",
        "  splits=math.ceil(Len/chunk)\n",
        "  df[\"Documents\"][i]=[]\n",
        "  for j in range(splits):\n",
        "    start=j*1000\n",
        "    end=(j+1)*1000\n",
        "\n",
        "    if end>Len:\n",
        "      end=Len\n",
        "    a=x[start:end]\n",
        "\n",
        "    b=\" \".join(a)\n",
        "    \n",
        "    df[\"Documents\"][i].append(b)\n",
        "\n",
        "\n",
        "\n",
        "    \n",
        "\n"
      ],
      "execution_count": 30,
      "outputs": [
        {
          "output_type": "stream",
          "text": [
            "/usr/local/lib/python3.6/dist-packages/ipykernel_launcher.py:9: SettingWithCopyWarning: \n",
            "A value is trying to be set on a copy of a slice from a DataFrame\n",
            "\n",
            "See the caveats in the documentation: https://pandas.pydata.org/pandas-docs/stable/user_guide/indexing.html#returning-a-view-versus-a-copy\n",
            "  if __name__ == '__main__':\n"
          ],
          "name": "stderr"
        }
      ]
    },
    {
      "cell_type": "code",
      "metadata": {
        "id": "mfiTlgyVeHF7",
        "colab_type": "code",
        "colab": {}
      },
      "source": [
        "df = df.explode(\"Documents\").reset_index(drop=True)"
      ],
      "execution_count": 31,
      "outputs": []
    },
    {
      "cell_type": "code",
      "metadata": {
        "id": "VhxZVA-RgiNi",
        "colab_type": "code",
        "colab": {
          "base_uri": "https://localhost:8080/",
          "height": 419
        },
        "outputId": "d5e703c7-ee04-49f3-bbbc-593e317e0f1e"
      },
      "source": [
        "df.head(100)"
      ],
      "execution_count": 32,
      "outputs": [
        {
          "output_type": "execute_result",
          "data": {
            "text/html": [
              "<div>\n",
              "<style scoped>\n",
              "    .dataframe tbody tr th:only-of-type {\n",
              "        vertical-align: middle;\n",
              "    }\n",
              "\n",
              "    .dataframe tbody tr th {\n",
              "        vertical-align: top;\n",
              "    }\n",
              "\n",
              "    .dataframe thead th {\n",
              "        text-align: right;\n",
              "    }\n",
              "</style>\n",
              "<table border=\"1\" class=\"dataframe\">\n",
              "  <thead>\n",
              "    <tr style=\"text-align: right;\">\n",
              "      <th></th>\n",
              "      <th>Categories</th>\n",
              "      <th>Documents</th>\n",
              "      <th>category_id</th>\n",
              "    </tr>\n",
              "  </thead>\n",
              "  <tbody>\n",
              "    <tr>\n",
              "      <th>0</th>\n",
              "      <td>AA</td>\n",
              "      <td>configuring account statementsthis topic helps...</td>\n",
              "      <td>0</td>\n",
              "    </tr>\n",
              "    <tr>\n",
              "      <th>1</th>\n",
              "      <td>AA</td>\n",
              "      <td>within given cycle however statement includes ...</td>\n",
              "      <td>0</td>\n",
              "    </tr>\n",
              "    <tr>\n",
              "      <th>2</th>\n",
              "      <td>AA</td>\n",
              "      <td>processed close business system moves related ...</td>\n",
              "      <td>0</td>\n",
              "    </tr>\n",
              "    <tr>\n",
              "      <th>3</th>\n",
              "      <td>AA</td>\n",
              "      <td>event moved event log running event servicethe...</td>\n",
              "      <td>0</td>\n",
              "    </tr>\n",
              "    <tr>\n",
              "      <th>4</th>\n",
              "      <td>AA</td>\n",
              "      <td>required application alsoexample user wants up...</td>\n",
              "      <td>0</td>\n",
              "    </tr>\n",
              "    <tr>\n",
              "      <th>...</th>\n",
              "      <td>...</td>\n",
              "      <td>...</td>\n",
              "      <td>...</td>\n",
              "    </tr>\n",
              "    <tr>\n",
              "      <th>95</th>\n",
              "      <td>DE</td>\n",
              "      <td>processes handled either following waysif erro...</td>\n",
              "      <td>13</td>\n",
              "    </tr>\n",
              "    <tr>\n",
              "      <th>96</th>\n",
              "      <td>DE</td>\n",
              "      <td>include batched messages test key input author...</td>\n",
              "      <td>13</td>\n",
              "    </tr>\n",
              "    <tr>\n",
              "      <th>97</th>\n",
              "      <td>DE</td>\n",
              "      <td>deaddress record error corrected adding deaddr...</td>\n",
              "      <td>13</td>\n",
              "    </tr>\n",
              "    <tr>\n",
              "      <th>98</th>\n",
              "      <td>DE</td>\n",
              "      <td>detranslation application record found detrans...</td>\n",
              "      <td>13</td>\n",
              "    </tr>\n",
              "    <tr>\n",
              "      <th>99</th>\n",
              "      <td>DE</td>\n",
              "      <td>validation mandatory fields displays error mes...</td>\n",
              "      <td>13</td>\n",
              "    </tr>\n",
              "  </tbody>\n",
              "</table>\n",
              "<p>100 rows × 3 columns</p>\n",
              "</div>"
            ],
            "text/plain": [
              "   Categories                                          Documents  category_id\n",
              "0          AA  configuring account statementsthis topic helps...            0\n",
              "1          AA  within given cycle however statement includes ...            0\n",
              "2          AA  processed close business system moves related ...            0\n",
              "3          AA  event moved event log running event servicethe...            0\n",
              "4          AA  required application alsoexample user wants up...            0\n",
              "..        ...                                                ...          ...\n",
              "95         DE  processes handled either following waysif erro...           13\n",
              "96         DE  include batched messages test key input author...           13\n",
              "97         DE  deaddress record error corrected adding deaddr...           13\n",
              "98         DE  detranslation application record found detrans...           13\n",
              "99         DE  validation mandatory fields displays error mes...           13\n",
              "\n",
              "[100 rows x 3 columns]"
            ]
          },
          "metadata": {
            "tags": []
          },
          "execution_count": 32
        }
      ]
    },
    {
      "cell_type": "code",
      "metadata": {
        "id": "-wVxNPRVk_Vr",
        "colab_type": "code",
        "colab": {
          "base_uri": "https://localhost:8080/",
          "height": 419
        },
        "outputId": "a0514d8c-7386-4cfd-adbb-31ee2520f33a"
      },
      "source": [
        "df['totalwords'] = df['Documents'].str.count(' ') + 1\n",
        "\n",
        "\n",
        "df=df[df[\"totalwords\"]>=100]\n",
        "\n",
        "df"
      ],
      "execution_count": 33,
      "outputs": [
        {
          "output_type": "execute_result",
          "data": {
            "text/html": [
              "<div>\n",
              "<style scoped>\n",
              "    .dataframe tbody tr th:only-of-type {\n",
              "        vertical-align: middle;\n",
              "    }\n",
              "\n",
              "    .dataframe tbody tr th {\n",
              "        vertical-align: top;\n",
              "    }\n",
              "\n",
              "    .dataframe thead th {\n",
              "        text-align: right;\n",
              "    }\n",
              "</style>\n",
              "<table border=\"1\" class=\"dataframe\">\n",
              "  <thead>\n",
              "    <tr style=\"text-align: right;\">\n",
              "      <th></th>\n",
              "      <th>Categories</th>\n",
              "      <th>Documents</th>\n",
              "      <th>category_id</th>\n",
              "      <th>totalwords</th>\n",
              "    </tr>\n",
              "  </thead>\n",
              "  <tbody>\n",
              "    <tr>\n",
              "      <th>0</th>\n",
              "      <td>AA</td>\n",
              "      <td>configuring account statementsthis topic helps...</td>\n",
              "      <td>0</td>\n",
              "      <td>1000</td>\n",
              "    </tr>\n",
              "    <tr>\n",
              "      <th>1</th>\n",
              "      <td>AA</td>\n",
              "      <td>within given cycle however statement includes ...</td>\n",
              "      <td>0</td>\n",
              "      <td>1000</td>\n",
              "    </tr>\n",
              "    <tr>\n",
              "      <th>2</th>\n",
              "      <td>AA</td>\n",
              "      <td>processed close business system moves related ...</td>\n",
              "      <td>0</td>\n",
              "      <td>1000</td>\n",
              "    </tr>\n",
              "    <tr>\n",
              "      <th>3</th>\n",
              "      <td>AA</td>\n",
              "      <td>event moved event log running event servicethe...</td>\n",
              "      <td>0</td>\n",
              "      <td>1000</td>\n",
              "    </tr>\n",
              "    <tr>\n",
              "      <th>4</th>\n",
              "      <td>AA</td>\n",
              "      <td>required application alsoexample user wants up...</td>\n",
              "      <td>0</td>\n",
              "      <td>1000</td>\n",
              "    </tr>\n",
              "    <tr>\n",
              "      <th>...</th>\n",
              "      <td>...</td>\n",
              "      <td>...</td>\n",
              "      <td>...</td>\n",
              "      <td>...</td>\n",
              "    </tr>\n",
              "    <tr>\n",
              "      <th>424</th>\n",
              "      <td>SW</td>\n",
              "      <td>accrual corrects interest amount required mult...</td>\n",
              "      <td>41</td>\n",
              "      <td>1000</td>\n",
              "    </tr>\n",
              "    <tr>\n",
              "      <th>425</th>\n",
              "      <td>SW</td>\n",
              "      <td>fixed one currency specifiedpi int keythe desc...</td>\n",
              "      <td>41</td>\n",
              "      <td>1000</td>\n",
              "    </tr>\n",
              "    <tr>\n",
              "      <th>426</th>\n",
              "      <td>SW</td>\n",
              "      <td>quarterly instalments annuity payment ap sched...</td>\n",
              "      <td>41</td>\n",
              "      <td>1000</td>\n",
              "    </tr>\n",
              "    <tr>\n",
              "      <th>427</th>\n",
              "      <td>SW</td>\n",
              "      <td>accounting entries duplicates created cob proc...</td>\n",
              "      <td>41</td>\n",
              "      <td>1000</td>\n",
              "    </tr>\n",
              "    <tr>\n",
              "      <th>428</th>\n",
              "      <td>SW</td>\n",
              "      <td>2 72331the table displays zero coupon rate arr...</td>\n",
              "      <td>41</td>\n",
              "      <td>762</td>\n",
              "    </tr>\n",
              "  </tbody>\n",
              "</table>\n",
              "<p>415 rows × 4 columns</p>\n",
              "</div>"
            ],
            "text/plain": [
              "    Categories  ... totalwords\n",
              "0           AA  ...       1000\n",
              "1           AA  ...       1000\n",
              "2           AA  ...       1000\n",
              "3           AA  ...       1000\n",
              "4           AA  ...       1000\n",
              "..         ...  ...        ...\n",
              "424         SW  ...       1000\n",
              "425         SW  ...       1000\n",
              "426         SW  ...       1000\n",
              "427         SW  ...       1000\n",
              "428         SW  ...        762\n",
              "\n",
              "[415 rows x 4 columns]"
            ]
          },
          "metadata": {
            "tags": []
          },
          "execution_count": 33
        }
      ]
    },
    {
      "cell_type": "markdown",
      "metadata": {
        "id": "Bju0NSLlzRfN",
        "colab_type": "text"
      },
      "source": [
        "The distribution of our dataframe"
      ]
    },
    {
      "cell_type": "code",
      "metadata": {
        "id": "L9kpjyTP6obQ",
        "colab_type": "code",
        "colab": {
          "base_uri": "https://localhost:8080/",
          "height": 282
        },
        "outputId": "b0d02267-f8e1-408c-ecd0-e0c2f9e86225"
      },
      "source": [
        "lens = df.Documents.str.len()\n",
        "lens.hist(bins = np.arange(0,10000,500))"
      ],
      "execution_count": 67,
      "outputs": [
        {
          "output_type": "execute_result",
          "data": {
            "text/plain": [
              "<matplotlib.axes._subplots.AxesSubplot at 0x7f59dc307d68>"
            ]
          },
          "metadata": {
            "tags": []
          },
          "execution_count": 67
        },
        {
          "output_type": "display_data",
          "data": {
            "image/png": "[encoded data removed]",
            "text/plain": [
              "<Figure size 432x288 with 1 Axes>"
            ]
          },
          "metadata": {
            "tags": [],
            "needs_background": "light"
          }
        }
      ]
    },
    {
      "cell_type": "markdown",
      "metadata": {
        "id": "ugdXLcC87l_-",
        "colab_type": "text"
      },
      "source": [
        "#checking  any missng Values"
      ]
    },
    {
      "cell_type": "code",
      "metadata": {
        "id": "5EplClm37h_6",
        "colab_type": "code",
        "colab": {
          "base_uri": "https://localhost:8080/",
          "height": 51
        },
        "outputId": "92dcfa6a-1ba6-4ed7-e396-9e18418f571f"
      },
      "source": [
        "print('Number of missing document in document text:')\n",
        "df['Documents'].isnull().sum()"
      ],
      "execution_count": 35,
      "outputs": [
        {
          "output_type": "stream",
          "text": [
            "Number of missing document in document text:\n"
          ],
          "name": "stdout"
        },
        {
          "output_type": "execute_result",
          "data": {
            "text/plain": [
              "0"
            ]
          },
          "metadata": {
            "tags": []
          },
          "execution_count": 35
        }
      ]
    },
    {
      "cell_type": "code",
      "metadata": {
        "id": "ZW1j8D1JwawH",
        "colab_type": "code",
        "colab": {
          "base_uri": "https://localhost:8080/",
          "height": 204
        },
        "outputId": "6dc1ba5e-1ea3-4bf7-9343-9dc8282b9924"
      },
      "source": [
        "df.tail()"
      ],
      "execution_count": 191,
      "outputs": [
        {
          "output_type": "execute_result",
          "data": {
            "text/html": [
              "<div>\n",
              "<style scoped>\n",
              "    .dataframe tbody tr th:only-of-type {\n",
              "        vertical-align: middle;\n",
              "    }\n",
              "\n",
              "    .dataframe tbody tr th {\n",
              "        vertical-align: top;\n",
              "    }\n",
              "\n",
              "    .dataframe thead th {\n",
              "        text-align: right;\n",
              "    }\n",
              "</style>\n",
              "<table border=\"1\" class=\"dataframe\">\n",
              "  <thead>\n",
              "    <tr style=\"text-align: right;\">\n",
              "      <th></th>\n",
              "      <th>Categories</th>\n",
              "      <th>Documents</th>\n",
              "      <th>category_id</th>\n",
              "      <th>totalwords</th>\n",
              "    </tr>\n",
              "  </thead>\n",
              "  <tbody>\n",
              "    <tr>\n",
              "      <th>424</th>\n",
              "      <td>SW</td>\n",
              "      <td>accrual corrects interest amount required mult...</td>\n",
              "      <td>41</td>\n",
              "      <td>1000</td>\n",
              "    </tr>\n",
              "    <tr>\n",
              "      <th>425</th>\n",
              "      <td>SW</td>\n",
              "      <td>fixed one currency specifiedpi int keythe desc...</td>\n",
              "      <td>41</td>\n",
              "      <td>1000</td>\n",
              "    </tr>\n",
              "    <tr>\n",
              "      <th>426</th>\n",
              "      <td>SW</td>\n",
              "      <td>quarterly instalments annuity payment ap sched...</td>\n",
              "      <td>41</td>\n",
              "      <td>1000</td>\n",
              "    </tr>\n",
              "    <tr>\n",
              "      <th>427</th>\n",
              "      <td>SW</td>\n",
              "      <td>accounting entries duplicates created cob proc...</td>\n",
              "      <td>41</td>\n",
              "      <td>1000</td>\n",
              "    </tr>\n",
              "    <tr>\n",
              "      <th>428</th>\n",
              "      <td>SW</td>\n",
              "      <td>2 72331the table displays zero coupon rate arr...</td>\n",
              "      <td>41</td>\n",
              "      <td>762</td>\n",
              "    </tr>\n",
              "  </tbody>\n",
              "</table>\n",
              "</div>"
            ],
            "text/plain": [
              "    Categories  ... totalwords\n",
              "424         SW  ...       1000\n",
              "425         SW  ...       1000\n",
              "426         SW  ...       1000\n",
              "427         SW  ...       1000\n",
              "428         SW  ...        762\n",
              "\n",
              "[5 rows x 4 columns]"
            ]
          },
          "metadata": {
            "tags": []
          },
          "execution_count": 191
        }
      ]
    },
    {
      "cell_type": "code",
      "metadata": {
        "id": "F5z9nrbbwKqz",
        "colab_type": "code",
        "colab": {
          "base_uri": "https://localhost:8080/",
          "height": 137
        },
        "outputId": "3b533d73-2182-4858-cc7e-21723d2125aa"
      },
      "source": [
        "df[\"Documents\"][1]"
      ],
      "execution_count": 192,
      "outputs": [
        {
          "output_type": "execute_result",
          "data": {
            "application/vnd.google.colaboratory.intrinsic+json": {
              "type": "string"
            },
            "text/plain": [
              "'within given cycle however statement includes entries generated last statementat arrangement level user attempts create arrangement system defaults statement condition defined product level user change default value subject negotiation rules statement type addonthe statement type attribute statement condition used specify account format enquiry defined record print statement statement addon multivalue field indicates optional add formatting enquiry allowed addons defined print statement record statement type chosen system validates addon allowed addon statement typestatement addon left negotiable chosen account levelit also optional print addon statement new page screenshot allowed addons rate change balance summary ar statement addons added statement type ar statementcombined statements combined statement consolidation individual statements based customer choice arrangements arrangements include loans deposits accounts aa external plus arrangements summary page added needed user designate lead account account participant accounts indicated combined statement generated designating lead participant accountsin statement condition lead account user input participant account numberscombined statement setup particular cycle lead participant accounts setup available system synchronises statement frequency participant accounts lead account updates attribute lead account referencethe user mentions participant accounts lead account setup frequency system updates lead account automatically statement condition participant accounts cycle account part one combined statement system raises override indicate lead account participant accounts already part another combined statement plupdatestatement activity synchronises statement dates underlying accountstatement combined statement setupthe system raises override ownership constitution number owners roles owners lead participant accounts sameif lead account participant account dormantaccounts external product lines form part combined statement participant account achieved setting participant attribute nonnegotiableexample statement setup lead participant accounts shown belowthe lead account 79073 participants loan 83151 account 78824 customerstatement preferences combined statements statement preferences features driven lead account definitionstatement frequencyif movement activity indicator printing options statement preferences detailed summary statement lead account one nine allowed frequencies statements designated combined statementsthe frequency participant accounts frequency number inline lead account automatically synchronized system frequency cannot amended individual participant account leveltheno activity indicator field set yes required summary statement produced even movements accounts involved combined statementthe statement frequency number participant account level automatically suppressed set frequency number participant account synchronised lead account individual statement generation cycle suppressedclosure participant account produces next combined statement next period removed combined statement definition closure lead account permitted till account removed combined statements setup system raises error account closure cancelling combined statementsthe user cancel combined statement removing participant accounts statement property lead account individual participant account delinked lead accountif statement cycle 1 part combined statement lead account attribute cleared participant accounts system takes prevailing frequency produce standalone statement participant accountif one statement cycles 29 part combined statement statement cycle removed participant accountsstatement types combined statementsthe detailed statement option account property class determines combined statement detailed summarised different statement formats defined various products summary page formatting enquiry also indicated thus possible different summary sections different products within combined statementnote refer product field print statement set yes statement generation process picks appropriate statement type addons arrangement product configuration system record default definitions used combined statement process refer product field set yesstatement processingduring runtime statement processing combined statements standalone statements individual participant accounts suppressedwhen lead account statement processed system recognises combined statement fetches list accounts generate consolidated statement outputwhen producing statement account level preferences formatting enquiry including apy rate change history balance summary etc driven definition lead accountwhen formatting api used system invokes formatting routine instead enquiry combined statements system invokes routine account produce single output relevant statement type driven definition individual participant account includes account specific summary pagethe output individual statements consolidated one combined statementthe list entries participant accounts statement period defined lead account combined statement setup system synchronises participant accounts statement cycle lead account statement printed account system triggers event raise record event activity raised arrangement case combined statements raised lead accountmultiple owners case accounts multiple customers based delivery required attribute customer property customer enabled delivery individual acstmthandoff records generated system generation frequency still driven arrangement level specification possible generate statements different frequency different customers arrangementprintstatement generates separate statement statement handoff customers specify delivery preferences statements based rolesexample customer joint owner arrangement x guarantor arrangement bank specify statement delivered main email address joint owner role business email address guarantor role based customers request statement outputthere number different ways statement generated t24 custom integration required export data another printing solution deliver statement customergiven sample account statement account statement 3 main sectionsstatement header details customer address opening balance statement dates movement details description column based context particular movementfooter details closing balance total credits debitsstatement generationprintstatement used generate statements t24during print statement processing cob dates recycled accountstatement statement handoff createdwhen system generates statement inline event printstatementservice triggered event recorded nonfinancial activity recordeventarrangement used charge setup printstatement holds definition formatting enquiry api used produce statement output default definition record systemdifferent printstatement definitions processed different instances statement service refer product field print statement set yes record statement generation process picks appropriate statement type addons arrangement product configurationthe user recollect system record default definitions used combined statement processthe main formatting enquiry format field additional enquiries specified next enquiry field spooled printed account statement generated combined account setup given see statement generated arrangements combined manner configuring alternate idunlike t24 applications underlying database table application acts example customer aaarrangementactivity used act upon aaarrangementset ebalternatekey released temenos shown belowthe alternateid attribute aaarrangementactivity aaarrangement used configure alternate key definitionthe definition aaarrangement linked alternate key definition aaarrangementactivityit important uniqueness key system make sure alternate id unique within t24 company also across companies t24 installationthe alternate id captured newarrangement takeoverarrangement activities subsequently maintained using purpose built amendaltidarrangement activitythe alternate id becomes effective upon authorisation activityintroduction alternate idbanks might require unique identification number arrangements across product lines alternate id attribute arrangement unique across product lines across t24 companies alternate id set arrangement used place arrangement referenceconfiguring change arrangement bookthere designing content featureintroduction change arrangement bookfor various reasons banks might change arrangement one company another note financial arrangements transferred different company long new company shares fin fileworking change arrangement book systemgenerated account changed one company another using ebcompanychange application account number aaarrangement input contract key field change company account'"
            ]
          },
          "metadata": {
            "tags": []
          },
          "execution_count": 192
        }
      ]
    },
    {
      "cell_type": "code",
      "metadata": {
        "id": "iMxCkv-fdb5G",
        "colab_type": "code",
        "colab": {
          "base_uri": "https://localhost:8080/",
          "height": 34
        },
        "outputId": "14138265-4950-455b-9704-6ad0fda01ac5"
      },
      "source": [
        "len(df.Categories.unique())"
      ],
      "execution_count": 36,
      "outputs": [
        {
          "output_type": "execute_result",
          "data": {
            "text/plain": [
              "37"
            ]
          },
          "metadata": {
            "tags": []
          },
          "execution_count": 36
        }
      ]
    },
    {
      "cell_type": "code",
      "metadata": {
        "id": "mmM8PVPBvVai",
        "colab_type": "code",
        "colab": {
          "base_uri": "https://localhost:8080/",
          "height": 520
        },
        "outputId": "eb4240b5-8e47-494a-e6a0-5ce6e1572db6"
      },
      "source": [
        "import matplotlib.pyplot as plt\n",
        "fig = plt.figure(figsize=(10,8))\n",
        "df.groupby('Categories').Documents.count().plot.bar(ylim=0)\n",
        "plt.show()"
      ],
      "execution_count": 37,
      "outputs": [
        {
          "output_type": "display_data",
          "data": {
            "image/png": "[encoded data removed]",
            "text/plain": [
              "<Figure size 720x576 with 1 Axes>"
            ]
          },
          "metadata": {
            "tags": [],
            "needs_background": "light"
          }
        }
      ]
    },
    {
      "cell_type": "markdown",
      "metadata": {
        "id": "r5Xq_xpBvXfd",
        "colab_type": "text"
      },
      "source": [
        "As we can see in our preprocess dataframe ,Categorie \"EB\" has highest number of rows and it is outlier we need to remove it so that we can avoid overfitting"
      ]
    },
    {
      "cell_type": "code",
      "metadata": {
        "id": "c7rsgjIcvvh1",
        "colab_type": "code",
        "colab": {}
      },
      "source": [
        "df=df[df.Categories != 'EB']"
      ],
      "execution_count": 38,
      "outputs": []
    },
    {
      "cell_type": "code",
      "metadata": {
        "id": "8yNmZmSqwNXs",
        "colab_type": "code",
        "colab": {
          "base_uri": "https://localhost:8080/",
          "height": 520
        },
        "outputId": "43e55e5e-c6d9-4c94-e0fd-dbc3bbf1211b"
      },
      "source": [
        "import matplotlib.pyplot as plt\n",
        "fig = plt.figure(figsize=(10,8))\n",
        "df.groupby('Categories').Documents.count().plot.bar(ylim=0)\n",
        "plt.show()"
      ],
      "execution_count": 39,
      "outputs": [
        {
          "output_type": "display_data",
          "data": {
            "image/png": "[encoded data removed]",
            "text/plain": [
              "<Figure size 720x576 with 1 Axes>"
            ]
          },
          "metadata": {
            "tags": [],
            "needs_background": "light"
          }
        }
      ]
    },
    {
      "cell_type": "code",
      "metadata": {
        "id": "n3g3BSUGwwHZ",
        "colab_type": "code",
        "colab": {
          "base_uri": "https://localhost:8080/",
          "height": 34
        },
        "outputId": "e7ca3c54-af28-499e-cd48-46275ea9f1ae"
      },
      "source": [
        "tfidf = TfidfVectorizer(sublinear_tf=True, min_df=5,\n",
        "                        ngram_range=(1, 2), \n",
        "                        stop_words='english')\n",
        "\n",
        "# We transform each Documents into a vector\n",
        "features = tfidf.fit_transform(df.Documents).toarray()\n",
        "\n",
        "labels = df.category_id\n",
        "\n",
        "print(\"Each of the %d Documents is represented by %d features (TF-IDF score of unigrams and bigrams)\" %(features.shape))"
      ],
      "execution_count": 42,
      "outputs": [
        {
          "output_type": "stream",
          "text": [
            "Each of the 209 Documents is represented by 4834 features (TF-IDF score of unigrams and bigrams)\n"
          ],
          "name": "stdout"
        }
      ]
    },
    {
      "cell_type": "markdown",
      "metadata": {
        "id": "RDwmMq8c7oLt",
        "colab_type": "text"
      },
      "source": [
        "Now we are using different machine learning algorithms to classify our script"
      ]
    },
    {
      "cell_type": "code",
      "metadata": {
        "id": "Nss-Hno60Eud",
        "colab_type": "code",
        "colab": {
          "base_uri": "https://localhost:8080/",
          "height": 51
        },
        "outputId": "f5f76a58-dde2-4e30-af83-bd562972919f"
      },
      "source": [
        "X = df.Documents\n",
        "y = df.Categories\n",
        "X_train, X_test, y_train, y_test = train_test_split(X, y, test_size=0.4, random_state = 42)\n",
        "\n",
        "my_tags= df.Categories.unique()\n",
        "\n",
        "Target_class=df[\"Categories\"].unique()\n",
        "from sklearn.multiclass import OneVsRestClassifier\n",
        "from sklearn.naive_bayes import MultinomialNB\n",
        "from sklearn.pipeline import Pipeline\n",
        "from sklearn.feature_extraction.text import TfidfTransformer,CountVectorizer\n",
        "\n",
        "nb = Pipeline([('vect', CountVectorizer()),\n",
        "               ('tfidf', TfidfTransformer()),\n",
        "               ('clf',  OneVsRestClassifier(MultinomialNB())),\n",
        "              ])\n",
        "nb.fit(X_train, y_train)\n",
        "\n",
        "\n",
        "from sklearn.metrics import classification_report\n",
        "\n",
        "y_pred = nb.predict(X_test)\n",
        "\n",
        "print('accuracy %s' % accuracy_score(y_test, y_pred))\n",
        "\n",
        "print(nb.predict(new_data))\n"
      ],
      "execution_count": 93,
      "outputs": [
        {
          "output_type": "stream",
          "text": [
            "accuracy 0.38095238095238093\n",
            "['AR']\n"
          ],
          "name": "stdout"
        }
      ]
    },
    {
      "cell_type": "code",
      "metadata": {
        "id": "DqpcDaeh7y4J",
        "colab_type": "code",
        "colab": {}
      },
      "source": [
        ""
      ],
      "execution_count": null,
      "outputs": []
    },
    {
      "cell_type": "code",
      "metadata": {
        "id": "mY9LKNY95JSM",
        "colab_type": "code",
        "colab": {
          "base_uri": "https://localhost:8080/",
          "height": 666
        },
        "outputId": "0765aa62-cc1b-4d14-cff1-744d90acaf78"
      },
      "source": [
        "from sklearn.linear_model import SGDClassifier\n",
        "\n",
        "sgd = Pipeline([('vect', CountVectorizer()),\n",
        "                ('tfidf', TfidfTransformer()),\n",
        "                ('clf', OneVsRestClassifier(SGDClassifier(loss='hinge', penalty='l2',alpha=1e-3, random_state=42, max_iter=5, tol=None))),\n",
        "               ])\n",
        "sgd.fit(X_train, y_train)\n",
        "\n",
        "\n",
        "\n",
        "y_pred = sgd.predict(X_test)\n",
        "\n",
        "print('accuracy %s' % accuracy_score(y_test, y_pred))\n",
        "print(classification_report(y_test, y_pred))\n",
        "\n",
        "print(sgd.predict(new_data))\n"
      ],
      "execution_count": 92,
      "outputs": [
        {
          "output_type": "stream",
          "text": [
            "accuracy 0.7169811320754716\n",
            "              precision    recall  f1-score   support\n",
            "\n",
            "          AA       0.00      0.00      0.00         3\n",
            "          AB       0.00      0.00      0.00         1\n",
            "          AC       1.00      0.80      0.89         5\n",
            "       AC_CQ       1.00      1.00      1.00         1\n",
            "          AD       0.00      0.00      0.00         1\n",
            "          AG       1.00      0.50      0.67         2\n",
            "          AR       0.33      1.00      0.50         2\n",
            "          AU       1.00      0.50      0.67         2\n",
            "          CO       1.00      1.00      1.00         4\n",
            "          DA       0.50      0.50      0.50         2\n",
            "          DE       0.67      0.67      0.67         3\n",
            "          DZ       0.00      0.00      0.00         2\n",
            "          ER       1.00      1.00      1.00         1\n",
            "          FR       1.00      1.00      1.00         1\n",
            "          FX       1.00      0.71      0.83         7\n",
            "          IC       0.75      1.00      0.86         3\n",
            "          MC       1.00      1.00      1.00         1\n",
            "          MD       1.00      1.00      1.00         3\n",
            "          MM       1.00      1.00      1.00         1\n",
            "          PC       0.00      0.00      0.00         1\n",
            "          PW       0.00      0.00      0.00         0\n",
            "          RE       0.50      1.00      0.67         1\n",
            "          SL       1.00      1.00      1.00         5\n",
            "          SW       0.33      1.00      0.50         1\n",
            "\n",
            "    accuracy                           0.72        53\n",
            "   macro avg       0.63      0.65      0.61        53\n",
            "weighted avg       0.75      0.72      0.71        53\n",
            "\n",
            "['AC']\n"
          ],
          "name": "stdout"
        },
        {
          "output_type": "stream",
          "text": [
            "/usr/local/lib/python3.6/dist-packages/sklearn/metrics/_classification.py:1272: UndefinedMetricWarning: Precision and F-score are ill-defined and being set to 0.0 in labels with no predicted samples. Use `zero_division` parameter to control this behavior.\n",
            "  _warn_prf(average, modifier, msg_start, len(result))\n",
            "/usr/local/lib/python3.6/dist-packages/sklearn/metrics/_classification.py:1272: UndefinedMetricWarning: Recall and F-score are ill-defined and being set to 0.0 in labels with no true samples. Use `zero_division` parameter to control this behavior.\n",
            "  _warn_prf(average, modifier, msg_start, len(result))\n"
          ],
          "name": "stderr"
        }
      ]
    },
    {
      "cell_type": "code",
      "metadata": {
        "id": "WgtwNkC_8H60",
        "colab_type": "code",
        "colab": {
          "base_uri": "https://localhost:8080/",
          "height": 1000
        },
        "outputId": "c6a063bf-20f5-41b5-ccd9-6d698742a8e7"
      },
      "source": [
        "from sklearn.metrics import multilabel_confusion_matrix\n",
        "multilabel_confusion_matrix(y_test, y_pred)"
      ],
      "execution_count": 83,
      "outputs": [
        {
          "output_type": "execute_result",
          "data": {
            "text/plain": [
              "array([[[80,  3],\n",
              "        [ 1,  0]],\n",
              "\n",
              "       [[82,  0],\n",
              "        [ 1,  1]],\n",
              "\n",
              "       [[73,  0],\n",
              "        [11,  0]],\n",
              "\n",
              "       [[83,  0],\n",
              "        [ 0,  1]],\n",
              "\n",
              "       [[82,  1],\n",
              "        [ 1,  0]],\n",
              "\n",
              "       [[81,  0],\n",
              "        [ 1,  2]],\n",
              "\n",
              "       [[71,  9],\n",
              "        [ 0,  4]],\n",
              "\n",
              "       [[82,  0],\n",
              "        [ 1,  1]],\n",
              "\n",
              "       [[83,  0],\n",
              "        [ 1,  0]],\n",
              "\n",
              "       [[76,  0],\n",
              "        [ 1,  7]],\n",
              "\n",
              "       [[80,  2],\n",
              "        [ 1,  1]],\n",
              "\n",
              "       [[81,  3],\n",
              "        [ 0,  0]],\n",
              "\n",
              "       [[80,  0],\n",
              "        [ 2,  2]],\n",
              "\n",
              "       [[82,  0],\n",
              "        [ 1,  1]],\n",
              "\n",
              "       [[82,  0],\n",
              "        [ 2,  0]],\n",
              "\n",
              "       [[82,  0],\n",
              "        [ 0,  2]],\n",
              "\n",
              "       [[82,  0],\n",
              "        [ 0,  2]],\n",
              "\n",
              "       [[75,  1],\n",
              "        [ 2,  6]],\n",
              "\n",
              "       [[78,  1],\n",
              "        [ 1,  4]],\n",
              "\n",
              "       [[76,  7],\n",
              "        [ 0,  1]],\n",
              "\n",
              "       [[81,  0],\n",
              "        [ 0,  3]],\n",
              "\n",
              "       [[82,  0],\n",
              "        [ 0,  2]],\n",
              "\n",
              "       [[83,  0],\n",
              "        [ 1,  0]],\n",
              "\n",
              "       [[83,  0],\n",
              "        [ 1,  0]],\n",
              "\n",
              "       [[80,  3],\n",
              "        [ 1,  0]],\n",
              "\n",
              "       [[82,  0],\n",
              "        [ 0,  2]],\n",
              "\n",
              "       [[82,  0],\n",
              "        [ 2,  0]],\n",
              "\n",
              "       [[77,  0],\n",
              "        [ 0,  7]],\n",
              "\n",
              "       [[79,  2],\n",
              "        [ 0,  3]]])"
            ]
          },
          "metadata": {
            "tags": []
          },
          "execution_count": 83
        }
      ]
    },
    {
      "cell_type": "code",
      "metadata": {
        "id": "UVmX_WvB5UDN",
        "colab_type": "code",
        "colab": {
          "base_uri": "https://localhost:8080/",
          "height": 751
        },
        "outputId": "28ca7e33-43fb-4878-bd1c-e5ac3ca1b350"
      },
      "source": [
        "from sklearn.linear_model import LogisticRegression\n",
        "\n",
        "\n",
        "logreg = Pipeline([('vect', CountVectorizer()),\n",
        "                ('tfidf', TfidfTransformer()),\n",
        "                ('clf', OneVsRestClassifier(LogisticRegression(n_jobs=1, C=1e5))),\n",
        "               ])\n",
        "logreg.fit(X_train, y_train)\n",
        "\n",
        "\n",
        "y_pred = logreg.predict(X_test)\n",
        "\n",
        "print('accuracy %s' % accuracy_score(y_test, y_pred))\n",
        "print(classification_report(y_test, y_pred))\n",
        "\n",
        "\n",
        "#predicting category on the new data\n",
        "print(logreg.predict(new_data))\n",
        "\n",
        "\n",
        "\n"
      ],
      "execution_count": 79,
      "outputs": [
        {
          "output_type": "stream",
          "text": [
            "accuracy 0.6785714285714286\n",
            "              precision    recall  f1-score   support\n",
            "\n",
            "          AA       0.00      0.00      0.00         1\n",
            "          AB       0.14      0.50      0.22         2\n",
            "          AC       0.86      0.55      0.67        11\n",
            "       AC_CQ       1.00      1.00      1.00         1\n",
            "          AD       0.00      0.00      0.00         1\n",
            "          AG       1.00      0.67      0.80         3\n",
            "          AR       0.57      1.00      0.73         4\n",
            "          AU       0.00      0.00      0.00         2\n",
            "          CL       0.00      0.00      0.00         1\n",
            "          CO       1.00      0.88      0.93         8\n",
            "          DA       0.00      0.00      0.00         2\n",
            "          DC       0.00      0.00      0.00         0\n",
            "          DE       1.00      0.50      0.67         4\n",
            "          DX       1.00      0.50      0.67         2\n",
            "          DZ       0.00      0.00      0.00         2\n",
            "          ER       1.00      1.00      1.00         2\n",
            "          FR       1.00      1.00      1.00         2\n",
            "          FX       0.88      0.88      0.88         8\n",
            "          IC       0.80      0.80      0.80         5\n",
            "          MC       0.50      1.00      0.67         1\n",
            "          MD       1.00      1.00      1.00         3\n",
            "          MM       1.00      1.00      1.00         2\n",
            "         NDF       0.00      0.00      0.00         1\n",
            "          PM       0.00      0.00      0.00         1\n",
            "          PW       0.00      0.00      0.00         1\n",
            "          RE       0.50      1.00      0.67         2\n",
            "          RS       0.00      0.00      0.00         2\n",
            "          SL       1.00      1.00      1.00         7\n",
            "          SW       0.75      1.00      0.86         3\n",
            "\n",
            "    accuracy                           0.68        84\n",
            "   macro avg       0.52      0.53      0.50        84\n",
            "weighted avg       0.72      0.68      0.68        84\n",
            "\n",
            "['AA']\n"
          ],
          "name": "stdout"
        },
        {
          "output_type": "stream",
          "text": [
            "/usr/local/lib/python3.6/dist-packages/sklearn/metrics/_classification.py:1272: UndefinedMetricWarning: Precision and F-score are ill-defined and being set to 0.0 in labels with no predicted samples. Use `zero_division` parameter to control this behavior.\n",
            "  _warn_prf(average, modifier, msg_start, len(result))\n",
            "/usr/local/lib/python3.6/dist-packages/sklearn/metrics/_classification.py:1272: UndefinedMetricWarning: Recall and F-score are ill-defined and being set to 0.0 in labels with no true samples. Use `zero_division` parameter to control this behavior.\n",
            "  _warn_prf(average, modifier, msg_start, len(result))\n"
          ],
          "name": "stderr"
        }
      ]
    },
    {
      "cell_type": "code",
      "metadata": {
        "id": "imB9rrVb4gOA",
        "colab_type": "code",
        "colab": {
          "base_uri": "https://localhost:8080/",
          "height": 785
        },
        "outputId": "901d1cee-7c0f-4c78-b5d1-b0a82e1e2bd2"
      },
      "source": [
        "from sklearn.linear_model import LogisticRegression\n",
        "from sklearn.ensemble import RandomForestClassifier\n",
        "\n",
        "RFC = Pipeline([('vect', CountVectorizer()),\n",
        "                ('tfidf', TfidfTransformer()),\n",
        "                ('clf', OneVsRestClassifier(RandomForestClassifier(max_depth=2, random_state=0))),\n",
        "               ])\n",
        "RFC.fit(X_train, y_train)\n",
        "\n",
        "\n",
        "y_pred = RFC.predict(X_test)\n",
        "\n",
        "print('accuracy %s' % accuracy_score(y_test, y_pred))\n",
        "print(classification_report(y_test, y_pred))\n",
        "print(RFC.predict(new_data))\n"
      ],
      "execution_count": 78,
      "outputs": [
        {
          "output_type": "stream",
          "text": [
            "accuracy 0.5595238095238095\n",
            "              precision    recall  f1-score   support\n",
            "\n",
            "          AA       0.00      0.00      0.00         1\n",
            "          AB       0.00      0.00      0.00         2\n",
            "          AC       1.00      0.27      0.43        11\n",
            "       AC_CQ       0.00      0.00      0.00         1\n",
            "          AD       0.00      0.00      0.00         1\n",
            "          AG       1.00      0.33      0.50         3\n",
            "          AR       0.27      1.00      0.42         4\n",
            "          AU       0.00      0.00      0.00         2\n",
            "          CL       0.00      0.00      0.00         1\n",
            "          CO       1.00      0.88      0.93         8\n",
            "          DA       0.00      0.00      0.00         2\n",
            "          DC       0.00      0.00      0.00         0\n",
            "          DE       1.00      0.50      0.67         4\n",
            "          DX       0.00      0.00      0.00         2\n",
            "          DZ       0.00      0.00      0.00         2\n",
            "          ER       1.00      0.50      0.67         2\n",
            "          EU       0.00      0.00      0.00         0\n",
            "          FR       0.00      0.00      0.00         2\n",
            "          FX       0.62      1.00      0.76         8\n",
            "          IC       0.80      0.80      0.80         5\n",
            "          MC       1.00      1.00      1.00         1\n",
            "          MD       1.00      0.67      0.80         3\n",
            "          MM       1.00      1.00      1.00         2\n",
            "         NDF       0.00      0.00      0.00         1\n",
            "          PM       0.00      0.00      0.00         1\n",
            "          PW       0.00      0.00      0.00         1\n",
            "          RC       0.00      0.00      0.00         0\n",
            "          RE       0.33      1.00      0.50         2\n",
            "          RS       0.00      0.00      0.00         2\n",
            "          SL       0.88      1.00      0.93         7\n",
            "          SW       1.00      1.00      1.00         3\n",
            "\n",
            "    accuracy                           0.56        84\n",
            "   macro avg       0.38      0.35      0.34        84\n",
            "weighted avg       0.64      0.56      0.54        84\n",
            "\n"
          ],
          "name": "stdout"
        },
        {
          "output_type": "stream",
          "text": [
            "/usr/local/lib/python3.6/dist-packages/sklearn/metrics/_classification.py:1272: UndefinedMetricWarning: Precision and F-score are ill-defined and being set to 0.0 in labels with no predicted samples. Use `zero_division` parameter to control this behavior.\n",
            "  _warn_prf(average, modifier, msg_start, len(result))\n",
            "/usr/local/lib/python3.6/dist-packages/sklearn/metrics/_classification.py:1272: UndefinedMetricWarning: Recall and F-score are ill-defined and being set to 0.0 in labels with no true samples. Use `zero_division` parameter to control this behavior.\n",
            "  _warn_prf(average, modifier, msg_start, len(result))\n"
          ],
          "name": "stderr"
        },
        {
          "output_type": "stream",
          "text": [
            "['AC']\n"
          ],
          "name": "stdout"
        }
      ]
    },
    {
      "cell_type": "code",
      "metadata": {
        "id": "bY9AVKaMtKuy",
        "colab_type": "code",
        "colab": {}
      },
      "source": [
        "X_train, X_test, y_train, y_test,indices_train,indices_test = train_test_split(features, \n",
        "                                                               labels, \n",
        "                                                               df.index, test_size=0.25, \n",
        "                                                               random_state=1)\n",
        "model = LinearSVC()\n",
        "model.fit(X_train, y_train)\n",
        "y_pred = model.predict(X_test)"
      ],
      "execution_count": 47,
      "outputs": []
    },
    {
      "cell_type": "code",
      "metadata": {
        "id": "tU5h8dNttlkb",
        "colab_type": "code",
        "colab": {
          "base_uri": "https://localhost:8080/",
          "height": 666
        },
        "outputId": "87ff9a6b-dbab-49e1-9d28-446d1a2eab66"
      },
      "source": [
        "from sklearn.metrics import classification_report\n",
        "print(classification_report(y_test, y_pred))\n"
      ],
      "execution_count": 48,
      "outputs": [
        {
          "output_type": "stream",
          "text": [
            "              precision    recall  f1-score   support\n",
            "\n",
            "           0       0.50      1.00      0.67         1\n",
            "           1       1.00      1.00      1.00         1\n",
            "           2       0.83      0.83      0.83         6\n",
            "           3       0.67      0.67      0.67         3\n",
            "           4       0.00      0.00      0.00         2\n",
            "           5       0.00      0.00      0.00         1\n",
            "           6       1.00      1.00      1.00         4\n",
            "           9       0.00      0.00      0.00         1\n",
            "          10       1.00      1.00      1.00         3\n",
            "          12       0.00      0.00      0.00         1\n",
            "          13       0.67      1.00      0.80         2\n",
            "          15       1.00      0.50      0.67         2\n",
            "          17       1.00      0.67      0.80         3\n",
            "          20       1.00      1.00      1.00         1\n",
            "          21       1.00      1.00      1.00         3\n",
            "          23       0.50      1.00      0.67         1\n",
            "          24       0.00      0.00      0.00         1\n",
            "          25       1.00      0.50      0.67         2\n",
            "          26       0.33      1.00      0.50         1\n",
            "          31       0.00      0.00      0.00         1\n",
            "          32       0.00      0.00      0.00         0\n",
            "          33       0.00      0.00      0.00         1\n",
            "          35       1.00      0.50      0.67         2\n",
            "          36       0.00      0.00      0.00         0\n",
            "          39       1.00      1.00      1.00         8\n",
            "          41       1.00      1.00      1.00         2\n",
            "\n",
            "    accuracy                           0.74        53\n",
            "   macro avg       0.56      0.56      0.54        53\n",
            "weighted avg       0.77      0.74      0.73        53\n",
            "\n"
          ],
          "name": "stdout"
        },
        {
          "output_type": "stream",
          "text": [
            "/usr/local/lib/python3.6/dist-packages/sklearn/metrics/_classification.py:1272: UndefinedMetricWarning: Precision and F-score are ill-defined and being set to 0.0 in labels with no predicted samples. Use `zero_division` parameter to control this behavior.\n",
            "  _warn_prf(average, modifier, msg_start, len(result))\n",
            "/usr/local/lib/python3.6/dist-packages/sklearn/metrics/_classification.py:1272: UndefinedMetricWarning: Recall and F-score are ill-defined and being set to 0.0 in labels with no true samples. Use `zero_division` parameter to control this behavior.\n",
            "  _warn_prf(average, modifier, msg_start, len(result))\n"
          ],
          "name": "stderr"
        }
      ]
    },
    {
      "cell_type": "markdown",
      "metadata": {
        "id": "HRWtmu79wc6j",
        "colab_type": "text"
      },
      "source": [
        "Predictions"
      ]
    },
    {
      "cell_type": "code",
      "metadata": {
        "id": "8NMqHivUwTd_",
        "colab_type": "code",
        "colab": {}
      },
      "source": [
        "X_train, X_test, y_train, y_test = train_test_split(X, y, \n",
        "                                                    test_size=0.25,\n",
        "                                                    random_state = 0)\n",
        "\n",
        "tfidf = TfidfVectorizer(sublinear_tf=True, min_df=5,\n",
        "                        ngram_range=(1, 2), \n",
        "                        stop_words='english')\n",
        "\n",
        "fitted_vectorizer = tfidf.fit(X_train)\n",
        "tfidf_vectorizer_vectors = fitted_vectorizer.transform(X_train)\n",
        "\n",
        "model = LinearSVC().fit(tfidf_vectorizer_vectors, y_train)"
      ],
      "execution_count": 90,
      "outputs": []
    },
    {
      "cell_type": "code",
      "metadata": {
        "id": "HJW7YP0p0dgO",
        "colab_type": "code",
        "colab": {
          "base_uri": "https://localhost:8080/",
          "height": 34
        },
        "outputId": "3a9dbacf-a44a-4dcd-f526-e1119919b2ba"
      },
      "source": [
        "new_data1=str(new_data).lower()\n",
        "new_Document=new_data1\n",
        "print(model.predict(fitted_vectorizer.transform([new_Document])))"
      ],
      "execution_count": 80,
      "outputs": [
        {
          "output_type": "stream",
          "text": [
            "['ER']\n"
          ],
          "name": "stdout"
        }
      ]
    },
    {
      "cell_type": "code",
      "metadata": {
        "id": "R5Ptkc770Ywu",
        "colab_type": "code",
        "colab": {}
      },
      "source": [
        ""
      ],
      "execution_count": null,
      "outputs": []
    }
  ]
}